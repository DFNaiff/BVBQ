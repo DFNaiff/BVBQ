{
 "cells": [
  {
   "cell_type": "code",
   "execution_count": 1,
   "metadata": {},
   "outputs": [],
   "source": [
    "%load_ext autoreload\n",
    "%autoreload 2"
   ]
  },
  {
   "cell_type": "code",
   "execution_count": 2,
   "metadata": {},
   "outputs": [
    {
     "ename": "ImportError",
     "evalue": "cannot import name 'BVBQNamedMixMVN' from 'bvbq_torch.named_interface' (../bvbq_torch/named_interface.py)",
     "output_type": "error",
     "traceback": [
      "\u001b[0;31m---------------------------------------------------------------------------\u001b[0m",
      "\u001b[0;31mImportError\u001b[0m                               Traceback (most recent call last)",
      "\u001b[0;32m<ipython-input-2-9a72013a92f8>\u001b[0m in \u001b[0;36m<module>\u001b[0;34m\u001b[0m\n\u001b[1;32m     12\u001b[0m \u001b[0;32mimport\u001b[0m \u001b[0mscipy\u001b[0m\u001b[0;34m.\u001b[0m\u001b[0mstats\u001b[0m\u001b[0;34m\u001b[0m\u001b[0;34m\u001b[0m\u001b[0m\n\u001b[1;32m     13\u001b[0m \u001b[0;34m\u001b[0m\u001b[0m\n\u001b[0;32m---> 14\u001b[0;31m \u001b[0;32mfrom\u001b[0m \u001b[0mbvbq_torch\u001b[0m \u001b[0;32mimport\u001b[0m \u001b[0mdistributions\u001b[0m\u001b[0;34m,\u001b[0m\u001b[0mutils\u001b[0m\u001b[0;34m\u001b[0m\u001b[0;34m\u001b[0m\u001b[0m\n\u001b[0m\u001b[1;32m     15\u001b[0m \u001b[0;32mfrom\u001b[0m \u001b[0mbvbq_torch\u001b[0m \u001b[0;32mimport\u001b[0m \u001b[0mBVBQMixMVN\u001b[0m\u001b[0;34m\u001b[0m\u001b[0;34m\u001b[0m\u001b[0m\n",
      "\u001b[0;32m~/Danilo/NIDF/Inference/bvbq/bvbq_torch/__init__.py\u001b[0m in \u001b[0;36m<module>\u001b[0;34m\u001b[0m\n\u001b[1;32m      3\u001b[0m \u001b[0;32mfrom\u001b[0m \u001b[0;34m.\u001b[0m \u001b[0;32mimport\u001b[0m \u001b[0mgp\u001b[0m\u001b[0;34m,\u001b[0m \u001b[0mkernel_functions\u001b[0m\u001b[0;34m,\u001b[0m \u001b[0mdistributions\u001b[0m\u001b[0;34m,\u001b[0m \u001b[0mbayesquad\u001b[0m\u001b[0;34m,\u001b[0m \u001b[0mutils\u001b[0m\u001b[0;34m,\u001b[0m\u001b[0;31m\\\u001b[0m\u001b[0;34m\u001b[0m\u001b[0;34m\u001b[0m\u001b[0m\n\u001b[1;32m      4\u001b[0m     \u001b[0mbvbq_functions\u001b[0m\u001b[0;34m,\u001b[0m \u001b[0mbvbq\u001b[0m\u001b[0;34m,\u001b[0m \u001b[0macquisition_functions\u001b[0m\u001b[0;34m,\u001b[0m \u001b[0mmetrics\u001b[0m\u001b[0;34m\u001b[0m\u001b[0;34m\u001b[0m\u001b[0m\n\u001b[0;32m----> 5\u001b[0;31m \u001b[0;32mfrom\u001b[0m \u001b[0;34m.\u001b[0m\u001b[0mnamed_interface\u001b[0m \u001b[0;32mimport\u001b[0m \u001b[0mBVBQNamedMixMVN\u001b[0m\u001b[0;34m\u001b[0m\u001b[0;34m\u001b[0m\u001b[0m\n\u001b[0m",
      "\u001b[0;31mImportError\u001b[0m: cannot import name 'BVBQNamedMixMVN' from 'bvbq_torch.named_interface' (../bvbq_torch/named_interface.py)"
     ]
    }
   ],
   "source": [
    "import sys\n",
    "sys.path.append('..')\n",
    "import functools\n",
    "import math\n",
    "import collections\n",
    "\n",
    "import numpy as np\n",
    "import torch\n",
    "import matplotlib.pyplot as plt\n",
    "from mpl_toolkits.mplot3d import Axes3D\n",
    "import sobol_seq\n",
    "import scipy.stats\n",
    "\n",
    "from bvbq_torch import distributions,utils\n",
    "from bvbq_torch import BVBQMixMVN"
   ]
  },
  {
   "cell_type": "code",
   "execution_count": null,
   "metadata": {},
   "outputs": [],
   "source": [
    "scipy.stats.gamma(1.0).rvs(size=(10,1))"
   ]
  },
  {
   "cell_type": "code",
   "execution_count": null,
   "metadata": {},
   "outputs": [],
   "source": [
    "def loggaussian(x,mu,sigma):\n",
    "    return -0.5*((x-mu)/sigma)**2 - np.log(np.sqrt(2*np.pi)*sigma)\n",
    "\n",
    "def baselogprob(params):\n",
    "    mu,sigma = params['mu'],params['sigma']\n",
    "    term1 = np.log(scipy.stats.gamma(3.0).pdf(sigma))\n",
    "    term2 = loggaussian(mu,0,sigma)\n",
    "    return term1 + term2\n",
    "\n",
    "def basesample(n):\n",
    "    sigma = scipy.stats.gamma(1.0).rvs(size=(n,1))\n",
    "    mu = np.random.randn(n,1)*sigma\n",
    "    res = {'mu':mu,'sigma':sigma}\n",
    "    return res\n"
   ]
  },
  {
   "cell_type": "code",
   "execution_count": null,
   "metadata": {},
   "outputs": [],
   "source": [
    "fig = plt.figure()\n",
    "ax = fig.add_subplot(111)\n",
    "samples = basesample(1000)\n",
    "ax.scatter(samples['mu'],samples['sigma'])\n",
    "ax.set_xlabel('mu')\n",
    "ax.set_ylabel('sigma')"
   ]
  },
  {
   "cell_type": "code",
   "execution_count": null,
   "metadata": {},
   "outputs": [],
   "source": [
    "fig = plt.figure()\n",
    "ax = fig.add_subplot(111, projection='3d')\n",
    "\n",
    "sigma_plot,mu_plot = np.meshgrid(np.linspace(0,7,101)[1:],np.linspace(-8,8))\n",
    "params = {'mu':mu_plot,'sigma':sigma_plot}\n",
    "zplot = baselogprob(params)\n",
    "ax.plot_surface(mu_plot,sigma_plot,np.exp(zplot))"
   ]
  },
  {
   "cell_type": "code",
   "execution_count": null,
   "metadata": {},
   "outputs": [],
   "source": [
    "bvbq = BVBQMixMVN(['mu','sigma'],[1,1],[(None,None),(0.0,None)])"
   ]
  },
  {
   "cell_type": "code",
   "execution_count": null,
   "metadata": {},
   "outputs": [],
   "source": [
    "ndata = 50\n",
    "mu = np.random.randn(ndata,1)\n",
    "sigma = scipy.stats.gamma(5).rvs(size=(ndata,1))\n",
    "params_init = {'mu':mu,'sigma':sigma}\n",
    "params_evals = baselogprob(params_init)\n",
    "bvbq.initialize_data(params_init,params_evals,empirical_params=True)\n",
    "bvbq.initialize_components(mean=torch.zeros(2),var=20*torch.ones(2))"
   ]
  },
  {
   "cell_type": "code",
   "execution_count": null,
   "metadata": {},
   "outputs": [],
   "source": [
    "for i in range(30):\n",
    "    bvbq.update_distribution()"
   ]
  },
  {
   "cell_type": "code",
   "execution_count": null,
   "metadata": {},
   "outputs": [],
   "source": [
    "distrib = bvbq.distribution"
   ]
  },
  {
   "cell_type": "code",
   "execution_count": null,
   "metadata": {},
   "outputs": [],
   "source": [
    "fig = plt.figure()\n",
    "ax = fig.add_subplot(111)\n",
    "samples = basesample(1000)\n",
    "samples_vb = distrib.sample(1000)\n",
    "ax.scatter(samples['mu'],samples['sigma'],color='blue',alpha=0.3)\n",
    "ax.scatter(samples_vb['mu'].numpy(),samples_vb['sigma'].numpy(),color='red',alpha=0.3)\n",
    "ax.set_xlabel('mu')\n",
    "ax.set_ylabel('sigma')"
   ]
  },
  {
   "cell_type": "code",
   "execution_count": null,
   "metadata": {},
   "outputs": [],
   "source": []
  },
  {
   "cell_type": "code",
   "execution_count": null,
   "metadata": {},
   "outputs": [],
   "source": [
    "fig = plt.figure(figsize=(16,16))\n",
    "ax1 = fig.add_subplot(221,projection='3d')\n",
    "ax2 = fig.add_subplot(222,projection='3d')\n",
    "ax3 = fig.add_subplot(223,projection='3d')\n",
    "sigma_plot,mu_plot = np.meshgrid(np.linspace(0,7,101)[1:],np.linspace(-8,8))\n",
    "zplot3 = baselogprob({'mu':mu_plot,'sigma':sigma_plot})\n",
    "zplot2 = distrib.logprob({'mu':mu_plot[...,None],'sigma':sigma_plot[...,None]}).numpy()\n",
    "zplot3 = bvbq.surrogate_prediction({'mu':mu_plot[...,None],'sigma':sigma_plot[...,None]}).numpy()\n",
    "ax1.plot_surface(mu_plot,sigma_plot,np.exp(zplot),color='blue',alpha=1.0)\n",
    "ax2.plot_surface(mu_plot,sigma_plot,np.exp(zplot2),color='red',alpha=1.0)\n",
    "ax3.plot_surface(mu_plot,sigma_plot,np.exp(zplot3),color='green',alpha=1.0)"
   ]
  },
  {
   "cell_type": "code",
   "execution_count": null,
   "metadata": {},
   "outputs": [],
   "source": [
    "bvbq.surrogate_prediction({'mu':mu_plot[...,None],'sigma':sigma_plot[...,None]})"
   ]
  },
  {
   "cell_type": "code",
   "execution_count": null,
   "metadata": {},
   "outputs": [],
   "source": []
  }
 ],
 "metadata": {
  "kernelspec": {
   "display_name": "Python 3",
   "language": "python",
   "name": "python3"
  }
 },
 "nbformat": 4,
 "nbformat_minor": 2
}
