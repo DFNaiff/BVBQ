{
 "cells": [
  {
   "cell_type": "code",
   "execution_count": 1,
   "metadata": {},
   "outputs": [],
   "source": [
    "%load_ext autoreload\n",
    "%autoreload 2"
   ]
  },
  {
   "cell_type": "code",
   "execution_count": 2,
   "metadata": {},
   "outputs": [],
   "source": [
    "import sys\n",
    "sys.path.append('..')\n",
    "\n",
    "import functools\n",
    "\n",
    "import numpy as np\n",
    "import torch"
   ]
  },
  {
   "cell_type": "code",
   "execution_count": null,
   "metadata": {},
   "outputs": [
    {
     "name": "stdout",
     "output_type": "stream",
     "text": [
      "Collecting torch\n",
      "  Downloading torch-1.9.0-cp37-cp37m-manylinux1_x86_64.whl (831.4 MB)\n",
      "\u001b[K     |███████████▉                    | 306.8 MB 1.3 MB/s eta 0:07:00    |██▉                             | 74.5 MB 1.4 MB/s eta 0:08:52     |██▉                             | 74.8 MB 1.4 MB/s eta 0:08:52     |███▎                            | 85.2 MB 1.2 MB/s eta 0:10:41     |████                            | 102.3 MB 1.2 MB/s eta 0:10:10     |████▍                           | 114.8 MB 1.4 MB/s eta 0:08:32     |████▌                           | 118.4 MB 1.3 MB/s eta 0:09:22     |█████▉                          | 152.8 MB 1.1 MB/s eta 0:10:22     |██████                          | 156.4 MB 1.1 MB/s eta 0:10:14     |███████▊                        | 200.3 MB 1.2 MB/s eta 0:08:28     |███████▉                        | 204.0 MB 425 kB/s eta 0:24:35     |████████                        | 210.3 MB 1.1 MB/s eta 0:09:28"
     ]
    }
   ],
   "source": [
    "!pip install torch -U"
   ]
  },
  {
   "cell_type": "code",
   "execution_count": null,
   "metadata": {},
   "outputs": [],
   "source": []
  }
 ],
 "metadata": {
  "kernelspec": {
   "display_name": "Python 3",
   "language": "python",
   "name": "python3"
  },
  "language_info": {
   "codemirror_mode": {
    "name": "ipython",
    "version": 3
   },
   "file_extension": ".py",
   "mimetype": "text/x-python",
   "name": "python",
   "nbconvert_exporter": "python",
   "pygments_lexer": "ipython3",
   "version": "3.7.7"
  }
 },
 "nbformat": 4,
 "nbformat_minor": 2
}
