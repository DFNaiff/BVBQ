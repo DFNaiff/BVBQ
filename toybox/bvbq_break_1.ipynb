{
 "cells": [
  {
   "cell_type": "code",
   "execution_count": 1,
   "metadata": {},
   "outputs": [],
   "source": [
    "%load_ext autoreload\n",
    "%autoreload 2"
   ]
  },
  {
   "cell_type": "code",
   "execution_count": 2,
   "metadata": {},
   "outputs": [
    {
     "name": "stderr",
     "output_type": "stream",
     "text": [
      "W0807 19:17:20.134869 140334712481600 xla_bridge.py:137] No GPU/TPU found, falling back to CPU. (Set TF_CPP_MIN_LOG_LEVEL=0 and rerun for more info.)\n"
     ]
    }
   ],
   "source": [
    "import sys\n",
    "sys.path.append('..')\n",
    "\n",
    "import collections\n",
    "import functools\n",
    "import abc\n",
    "import random\n",
    "\n",
    "import numpy as np\n",
    "import jax\n",
    "import jax.numpy as jnp\n",
    "import jax.experimental.optimizers\n",
    "import scipy.stats\n",
    "import matplotlib.pyplot as plt\n",
    "from mpl_toolkits.mplot3d import Axes3D\n",
    "import sobol_seq\n",
    "import dict_minimize\n",
    "from pytictoc import TicToc\n",
    "\n",
    "import bvbq\n",
    "\n",
    "# import bvbq.gp\n",
    "# import bvbq.bvi\n",
    "# import bvbq.distributions"
   ]
  },
  {
   "cell_type": "code",
   "execution_count": 3,
   "metadata": {},
   "outputs": [],
   "source": [
    "key1 = jax.random.PRNGKey(250)\n",
    "key2,_ = jax.random.split(key1)\n",
    "mixmeans_test = 4*jax.random.normal(key1,shape=(12,1))\n",
    "# mixmeans_test = jnp.ones((12,1))\n",
    "mixmeans_test = jnp.array([[  1.8033],\n",
    "                           [ -1.4296],\n",
    "                           [ -1.9691],\n",
    "                           [  1.2147],\n",
    "                           [ -6.9166],\n",
    "                           [-11.5672],\n",
    "                           [ -1.5860],\n",
    "                           [ -4.3302],\n",
    "                           [  8.7410],\n",
    "                           [ -1.3793],\n",
    "                           [ -4.8774],\n",
    "                           [  2.3949]])\n",
    "mixvars_test = jnp.ones((12,1))\n",
    "mixweights_test = jnp.ones(12)/12\n",
    "# mixmeans_test = jnp.array([[3.0],[-3.0]])\n",
    "# mixvars_test = jnp.ones((2,1))\n",
    "# mixweights_test = jnp.ones(2)/2\n",
    "# bvbq.distributions.MixtureDiagonalNormalDistribution.logprob_(\n",
    "#                     samples,mixmeans,mixvars,mixweights)"
   ]
  },
  {
   "cell_type": "code",
   "execution_count": 4,
   "metadata": {},
   "outputs": [
    {
     "name": "stdout",
     "output_type": "stream",
     "text": [
      "-2.0309572\n",
      "--\n"
     ]
    },
    {
     "ename": "ValueError",
     "evalue": "jitted function has static_argnums=(4, 5), donate_argnums=() but was called with only 2 positional arguments.",
     "output_type": "error",
     "traceback": [
      "\u001b[0;31m---------------------------------------------------------------------------\u001b[0m",
      "\u001b[0;31mFilteredStackTrace\u001b[0m                        Traceback (most recent call last)",
      "\u001b[0;32m<ipython-input-4-8cefb61b74be>\u001b[0m in \u001b[0;36m<module>\u001b[0;34m\u001b[0m\n\u001b[1;32m     17\u001b[0m \u001b[0mlogprobgp\u001b[0m\u001b[0;34m.\u001b[0m\u001b[0mfix_noise\u001b[0m\u001b[0;34m(\u001b[0m\u001b[0;34m)\u001b[0m\u001b[0;34m\u001b[0m\u001b[0;34m\u001b[0m\u001b[0m\n\u001b[0;32m---> 18\u001b[0;31m \u001b[0mlogprobgp\u001b[0m\u001b[0;34m.\u001b[0m\u001b[0mset_data\u001b[0m\u001b[0;34m(\u001b[0m\u001b[0mxdata\u001b[0m\u001b[0;34m,\u001b[0m\u001b[0mydata\u001b[0m\u001b[0;34m,\u001b[0m\u001b[0mempirical_params\u001b[0m\u001b[0;34m=\u001b[0m\u001b[0;32mFalse\u001b[0m\u001b[0;34m)\u001b[0m\u001b[0;34m\u001b[0m\u001b[0;34m\u001b[0m\u001b[0m\n\u001b[0m\u001b[1;32m     19\u001b[0m \u001b[0;31m# logprobgp.optimize_params()\u001b[0m\u001b[0;34m\u001b[0m\u001b[0;34m\u001b[0m\u001b[0;34m\u001b[0m\u001b[0m\n",
      "\u001b[0;32m~/Danilo/NIDF/Inference/bvbq/bvbq/gp.py\u001b[0m in \u001b[0;36mset_data\u001b[0;34m(self, X, y, empirical_params)\u001b[0m\n\u001b[1;32m     62\u001b[0m             \u001b[0mself\u001b[0m\u001b[0;34m.\u001b[0m\u001b[0mset_params_empirical\u001b[0m\u001b[0;34m(\u001b[0m\u001b[0mX\u001b[0m\u001b[0;34m,\u001b[0m\u001b[0my\u001b[0m\u001b[0;34m)\u001b[0m\u001b[0;34m\u001b[0m\u001b[0;34m\u001b[0m\u001b[0m\n\u001b[0;32m---> 63\u001b[0;31m         \u001b[0mkernel_matrix_\u001b[0m \u001b[0;34m=\u001b[0m \u001b[0mself\u001b[0m\u001b[0;34m.\u001b[0m\u001b[0mmake_kernel_matrix\u001b[0m\u001b[0;34m(\u001b[0m\u001b[0mX\u001b[0m\u001b[0;34m,\u001b[0m\u001b[0mX\u001b[0m\u001b[0;34m,\u001b[0m\u001b[0mself\u001b[0m\u001b[0;34m.\u001b[0m\u001b[0mtheta\u001b[0m\u001b[0;34m,\u001b[0m\u001b[0mself\u001b[0m\u001b[0;34m.\u001b[0m\u001b[0mlengthscale\u001b[0m\u001b[0;34m)\u001b[0m\u001b[0;34m\u001b[0m\u001b[0;34m\u001b[0m\u001b[0m\n\u001b[0m\u001b[1;32m     64\u001b[0m         \u001b[0mkernel_matrix\u001b[0m \u001b[0;34m=\u001b[0m \u001b[0mself\u001b[0m\u001b[0;34m.\u001b[0m\u001b[0mnoisify_kernel_matrix\u001b[0m\u001b[0;34m(\u001b[0m\u001b[0mkernel_matrix_\u001b[0m\u001b[0;34m,\u001b[0m\u001b[0mself\u001b[0m\u001b[0;34m.\u001b[0m\u001b[0mnoise\u001b[0m\u001b[0;34m)\u001b[0m\u001b[0;34m\u001b[0m\u001b[0;34m\u001b[0m\u001b[0m\n",
      "\u001b[0;32m~/Danilo/NIDF/Inference/bvbq/bvbq/gp.py\u001b[0m in \u001b[0;36mmake_kernel_matrix\u001b[0;34m(self, X1, X2, theta, lengthscale, diagonal)\u001b[0m\n\u001b[1;32m    299\u001b[0m                                             \u001b[0mtheta\u001b[0m\u001b[0;34m=\u001b[0m\u001b[0mtheta\u001b[0m\u001b[0;34m,\u001b[0m\u001b[0;34m\u001b[0m\u001b[0;34m\u001b[0m\u001b[0m\n\u001b[0;32m--> 300\u001b[0;31m                                             l=lengthscale)\n\u001b[0m\u001b[1;32m    301\u001b[0m         \u001b[0;32mreturn\u001b[0m \u001b[0mK\u001b[0m\u001b[0;34m\u001b[0m\u001b[0;34m\u001b[0m\u001b[0m\n",
      "\u001b[0;31mFilteredStackTrace\u001b[0m: ValueError: jitted function has static_argnums=(4, 5), donate_argnums=() but was called with only 2 positional arguments.\n\nThe stack trace above excludes JAX-internal frames.\nThe following is the original exception that occurred, unmodified.\n\n--------------------",
      "\nThe above exception was the direct cause of the following exception:\n",
      "\u001b[0;31mValueError\u001b[0m                                Traceback (most recent call last)",
      "\u001b[0;32m<ipython-input-4-8cefb61b74be>\u001b[0m in \u001b[0;36m<module>\u001b[0;34m\u001b[0m\n\u001b[1;32m     16\u001b[0m \u001b[0mlogprobgp\u001b[0m\u001b[0;34m.\u001b[0m\u001b[0mfix_mean\u001b[0m\u001b[0;34m(\u001b[0m\u001b[0;34m)\u001b[0m\u001b[0;34m\u001b[0m\u001b[0;34m\u001b[0m\u001b[0m\n\u001b[1;32m     17\u001b[0m \u001b[0mlogprobgp\u001b[0m\u001b[0;34m.\u001b[0m\u001b[0mfix_noise\u001b[0m\u001b[0;34m(\u001b[0m\u001b[0;34m)\u001b[0m\u001b[0;34m\u001b[0m\u001b[0;34m\u001b[0m\u001b[0m\n\u001b[0;32m---> 18\u001b[0;31m \u001b[0mlogprobgp\u001b[0m\u001b[0;34m.\u001b[0m\u001b[0mset_data\u001b[0m\u001b[0;34m(\u001b[0m\u001b[0mxdata\u001b[0m\u001b[0;34m,\u001b[0m\u001b[0mydata\u001b[0m\u001b[0;34m,\u001b[0m\u001b[0mempirical_params\u001b[0m\u001b[0;34m=\u001b[0m\u001b[0;32mFalse\u001b[0m\u001b[0;34m)\u001b[0m\u001b[0;34m\u001b[0m\u001b[0;34m\u001b[0m\u001b[0m\n\u001b[0m\u001b[1;32m     19\u001b[0m \u001b[0;31m# logprobgp.optimize_params()\u001b[0m\u001b[0;34m\u001b[0m\u001b[0;34m\u001b[0m\u001b[0;34m\u001b[0m\u001b[0m\n",
      "\u001b[0;32m~/Danilo/NIDF/Inference/bvbq/bvbq/gp.py\u001b[0m in \u001b[0;36mset_data\u001b[0;34m(self, X, y, empirical_params)\u001b[0m\n\u001b[1;32m     61\u001b[0m         \u001b[0;32mif\u001b[0m \u001b[0mempirical_params\u001b[0m\u001b[0;34m:\u001b[0m\u001b[0;34m\u001b[0m\u001b[0;34m\u001b[0m\u001b[0m\n\u001b[1;32m     62\u001b[0m             \u001b[0mself\u001b[0m\u001b[0;34m.\u001b[0m\u001b[0mset_params_empirical\u001b[0m\u001b[0;34m(\u001b[0m\u001b[0mX\u001b[0m\u001b[0;34m,\u001b[0m\u001b[0my\u001b[0m\u001b[0;34m)\u001b[0m\u001b[0;34m\u001b[0m\u001b[0;34m\u001b[0m\u001b[0m\n\u001b[0;32m---> 63\u001b[0;31m         \u001b[0mkernel_matrix_\u001b[0m \u001b[0;34m=\u001b[0m \u001b[0mself\u001b[0m\u001b[0;34m.\u001b[0m\u001b[0mmake_kernel_matrix\u001b[0m\u001b[0;34m(\u001b[0m\u001b[0mX\u001b[0m\u001b[0;34m,\u001b[0m\u001b[0mX\u001b[0m\u001b[0;34m,\u001b[0m\u001b[0mself\u001b[0m\u001b[0;34m.\u001b[0m\u001b[0mtheta\u001b[0m\u001b[0;34m,\u001b[0m\u001b[0mself\u001b[0m\u001b[0;34m.\u001b[0m\u001b[0mlengthscale\u001b[0m\u001b[0;34m)\u001b[0m\u001b[0;34m\u001b[0m\u001b[0;34m\u001b[0m\u001b[0m\n\u001b[0m\u001b[1;32m     64\u001b[0m         \u001b[0mkernel_matrix\u001b[0m \u001b[0;34m=\u001b[0m \u001b[0mself\u001b[0m\u001b[0;34m.\u001b[0m\u001b[0mnoisify_kernel_matrix\u001b[0m\u001b[0;34m(\u001b[0m\u001b[0mkernel_matrix_\u001b[0m\u001b[0;34m,\u001b[0m\u001b[0mself\u001b[0m\u001b[0;34m.\u001b[0m\u001b[0mnoise\u001b[0m\u001b[0;34m)\u001b[0m\u001b[0;34m\u001b[0m\u001b[0;34m\u001b[0m\u001b[0m\n\u001b[1;32m     65\u001b[0m         \u001b[0mupper_chol_matrix\u001b[0m \u001b[0;34m=\u001b[0m \u001b[0mself\u001b[0m\u001b[0;34m.\u001b[0m\u001b[0mmake_cholesky\u001b[0m\u001b[0;34m(\u001b[0m\u001b[0mkernel_matrix\u001b[0m\u001b[0;34m)\u001b[0m\u001b[0;34m\u001b[0m\u001b[0;34m\u001b[0m\u001b[0m\n",
      "\u001b[0;32m~/Danilo/NIDF/Inference/bvbq/bvbq/gp.py\u001b[0m in \u001b[0;36mmake_kernel_matrix\u001b[0;34m(self, X1, X2, theta, lengthscale, diagonal)\u001b[0m\n\u001b[1;32m    298\u001b[0m                                             \u001b[0moutput\u001b[0m\u001b[0;34m=\u001b[0m\u001b[0moutput\u001b[0m\u001b[0;34m,\u001b[0m\u001b[0;34m\u001b[0m\u001b[0;34m\u001b[0m\u001b[0m\n\u001b[1;32m    299\u001b[0m                                             \u001b[0mtheta\u001b[0m\u001b[0;34m=\u001b[0m\u001b[0mtheta\u001b[0m\u001b[0;34m,\u001b[0m\u001b[0;34m\u001b[0m\u001b[0;34m\u001b[0m\u001b[0m\n\u001b[0;32m--> 300\u001b[0;31m                                             l=lengthscale)\n\u001b[0m\u001b[1;32m    301\u001b[0m         \u001b[0;32mreturn\u001b[0m \u001b[0mK\u001b[0m\u001b[0;34m\u001b[0m\u001b[0;34m\u001b[0m\u001b[0m\n\u001b[1;32m    302\u001b[0m \u001b[0;34m\u001b[0m\u001b[0m\n",
      "\u001b[0;32m~/anaconda3/envs/danilo_env_1/lib/python3.7/site-packages/jax/_src/traceback_util.py\u001b[0m in \u001b[0;36mreraise_with_filtered_traceback\u001b[0;34m(*args, **kwargs)\u001b[0m\n\u001b[1;32m    137\u001b[0m   \u001b[0;32mdef\u001b[0m \u001b[0mreraise_with_filtered_traceback\u001b[0m\u001b[0;34m(\u001b[0m\u001b[0;34m*\u001b[0m\u001b[0margs\u001b[0m\u001b[0;34m,\u001b[0m \u001b[0;34m**\u001b[0m\u001b[0mkwargs\u001b[0m\u001b[0;34m)\u001b[0m\u001b[0;34m:\u001b[0m\u001b[0;34m\u001b[0m\u001b[0;34m\u001b[0m\u001b[0m\n\u001b[1;32m    138\u001b[0m     \u001b[0;32mtry\u001b[0m\u001b[0;34m:\u001b[0m\u001b[0;34m\u001b[0m\u001b[0;34m\u001b[0m\u001b[0m\n\u001b[0;32m--> 139\u001b[0;31m       \u001b[0;32mreturn\u001b[0m \u001b[0mfun\u001b[0m\u001b[0;34m(\u001b[0m\u001b[0;34m*\u001b[0m\u001b[0margs\u001b[0m\u001b[0;34m,\u001b[0m \u001b[0;34m**\u001b[0m\u001b[0mkwargs\u001b[0m\u001b[0;34m)\u001b[0m\u001b[0;34m\u001b[0m\u001b[0;34m\u001b[0m\u001b[0m\n\u001b[0m\u001b[1;32m    140\u001b[0m     \u001b[0;32mexcept\u001b[0m \u001b[0mException\u001b[0m \u001b[0;32mas\u001b[0m \u001b[0me\u001b[0m\u001b[0;34m:\u001b[0m\u001b[0;34m\u001b[0m\u001b[0;34m\u001b[0m\u001b[0m\n\u001b[1;32m    141\u001b[0m       \u001b[0;32mif\u001b[0m \u001b[0;32mnot\u001b[0m \u001b[0mis_under_reraiser\u001b[0m\u001b[0;34m(\u001b[0m\u001b[0me\u001b[0m\u001b[0;34m)\u001b[0m\u001b[0;34m:\u001b[0m\u001b[0;34m\u001b[0m\u001b[0;34m\u001b[0m\u001b[0m\n",
      "\u001b[0;32m~/anaconda3/envs/danilo_env_1/lib/python3.7/site-packages/jax/api.py\u001b[0m in \u001b[0;36mcache_miss\u001b[0;34m(*args, **kwargs)\u001b[0m\n\u001b[1;32m    315\u001b[0m       msg = (\"jitted function has static_argnums={}, donate_argnums={} but \"\n\u001b[1;32m    316\u001b[0m              \"was called with only {} positional arguments.\")\n\u001b[0;32m--> 317\u001b[0;31m       \u001b[0;32mraise\u001b[0m \u001b[0mValueError\u001b[0m\u001b[0;34m(\u001b[0m\u001b[0mmsg\u001b[0m\u001b[0;34m.\u001b[0m\u001b[0mformat\u001b[0m\u001b[0;34m(\u001b[0m\u001b[0mstatic_argnums\u001b[0m\u001b[0;34m,\u001b[0m \u001b[0mdonate_argnums\u001b[0m\u001b[0;34m,\u001b[0m \u001b[0mlen\u001b[0m\u001b[0;34m(\u001b[0m\u001b[0margs\u001b[0m\u001b[0;34m)\u001b[0m\u001b[0;34m)\u001b[0m\u001b[0;34m)\u001b[0m\u001b[0;34m\u001b[0m\u001b[0;34m\u001b[0m\u001b[0m\n\u001b[0m\u001b[1;32m    318\u001b[0m     \u001b[0mf\u001b[0m \u001b[0;34m=\u001b[0m \u001b[0mlu\u001b[0m\u001b[0;34m.\u001b[0m\u001b[0mwrap_init\u001b[0m\u001b[0;34m(\u001b[0m\u001b[0mfun\u001b[0m\u001b[0;34m)\u001b[0m\u001b[0;34m\u001b[0m\u001b[0;34m\u001b[0m\u001b[0m\n\u001b[1;32m    319\u001b[0m     \u001b[0;32mif\u001b[0m \u001b[0mstatic_argnums\u001b[0m\u001b[0;34m:\u001b[0m\u001b[0;34m\u001b[0m\u001b[0;34m\u001b[0m\u001b[0m\n",
      "\u001b[0;31mValueError\u001b[0m: jitted function has static_argnums=(4, 5), donate_argnums=() but was called with only 2 positional arguments."
     ]
    }
   ],
   "source": [
    "def logprob_mixgaussians(x):\n",
    "    return bvbq.distributions.MixtureDiagonalNormalDistribution.logprob_(\n",
    "                        x,mixmeans_test,mixvars_test,mixweights_test).reshape(-1,1)\n",
    "def logprob_t(x,nu):\n",
    "    normalizer = jax.scipy.special.gammaln((nu+1)/2) \\\n",
    "                 -jax.scipy.special.gammaln(nu/2) \\\n",
    "                 -0.5*jnp.log(jnp.pi*nu)\n",
    "    main_term = -(nu+1)/2*jnp.log(1+x**2/nu)\n",
    "    return main_term + normalizer\n",
    "\n",
    "xdata = jnp.linspace(-20,20,51).reshape(-1,1)\n",
    "# ydata = logprob_t(xdata,2.5)\n",
    "ydata = logprob_mixgaussians(xdata)\n",
    "logprobgp = bvbq.gp.SimpleGP(1,kind='sqe',noise=0,zeromax=True)\n",
    "logprobgp.mean = -10.0\n",
    "logprobgp.fix_mean()\n",
    "logprobgp.fix_noise()\n",
    "logprobgp.set_data(xdata,ydata,empirical_params=False)\n",
    "# logprobgp.optimize_params()"
   ]
  },
  {
   "cell_type": "code",
   "execution_count": null,
   "metadata": {},
   "outputs": [],
   "source": [
    "xplot = np.linspace(-20,20,201).reshape(-1,1)\n",
    "yplot1 = logprob_mixgaussians(xplot)\n",
    "# yplot1 = logprob_t(xplot,2.5)\n",
    "yplot2 = logprobgp.predict(xplot,return_cov=False)\n",
    "plt.plot(xplot,jnp.exp(yplot1),'b')\n",
    "plt.plot(xplot,jnp.exp(yplot2),'r')\n",
    "samples1 = bvbq.distributions.MixtureDiagonalNormalDistribution.sample_(100000,\n",
    "                                                             mixmeans_test,\n",
    "                                                             mixvars_test,\n",
    "                                                             mixweights_test,\n",
    "                                                             key1,key2)\n",
    "plt.hist(samples1.flatten(),density=True,bins=100);"
   ]
  },
  {
   "cell_type": "code",
   "execution_count": null,
   "metadata": {},
   "outputs": [],
   "source": [
    "def mcbq_dmvn_elbo(logprobgp,mean,var,nsamples):\n",
    "    term1 = 0.5*jnp.sum(jnp.log(2*jnp.pi*jnp.e*var))\n",
    "    term2 = bvbq.bq.separable_dmvn_bq(logprobgp,mean,var,return_var=False)\n",
    "    return term1 + term2\n",
    "#     term1 = distrib.monte_carlo_entropy(nsamples)\n",
    "#     term2 = bq.monte_carlo_bayesian_quadrature(logprobgp,distrib,nsamples)\n",
    "#     return term1 + term2\n",
    "\n",
    "def objective_function_elbo(params):\n",
    "    mean,rawvar = params['mean'],params['rawvar']\n",
    "    var = jax.nn.softplus(rawvar)\n",
    "    res = -mcbq_dmvn_elbo(logprobgp,mean,var,1000)\n",
    "    return res"
   ]
  },
  {
   "cell_type": "code",
   "execution_count": null,
   "metadata": {},
   "outputs": [],
   "source": [
    "params = {'mean':jnp.zeros(1)-1.0,'rawvar':jnp.zeros(1)}\n",
    "jax.value_and_grad(objective_function_elbo)(params)\n",
    "maxiter = 100\n",
    "alpha = 1e-1\n",
    "optwrapper = bvbq.optwrapper.JaxOptWrapper(\"adam\",alpha)\n",
    "func_and_grad_elbo = jax.value_and_grad(objective_function_elbo)\n",
    "optwrapper.init(params,func_and_grad_elbo)\n",
    "for k in range(maxiter):\n",
    "    value,grads = optwrapper.step()\n",
    "    params = optwrapper.params\n",
    "#     print(value,params['mean'],jax.nn.softplus(params['rawvar']))\n",
    "mean,rawvar = params['mean'],params['rawvar']\n",
    "var = jax.nn.softplus(rawvar)\n",
    "distrib = bvbq.distributions.DiagonalNormalDistribution(mean,var)"
   ]
  },
  {
   "cell_type": "code",
   "execution_count": null,
   "metadata": {},
   "outputs": [],
   "source": [
    "xplot = np.linspace(-10,10,201).reshape(-1,1)\n",
    "# yplot1 = logprob_t(xplot,2.5)\n",
    "yplot1 = logprob_mixgaussians(xplot)\n",
    "yplot2 = logprobgp.predict(xplot,return_cov=False)\n",
    "yplot3 = distrib.logprob(xplot).reshape(-1,1)\n",
    "plt.plot(xplot,jnp.exp(yplot1),'b')\n",
    "plt.plot(xplot,jnp.exp(yplot2),'r')\n",
    "plt.plot(xplot,jnp.exp(yplot3),'g')\n",
    "samples1 = bvbq.distributions.MixtureDiagonalNormalDistribution.sample_(10000,\n",
    "                                                             mixmeans_test,\n",
    "                                                             mixvars_test,\n",
    "                                                             mixweights_test,\n",
    "                                                             key1,key2)\n",
    "samples3 = distrib.sample(10000)\n",
    "plt.hist(samples1.flatten(),density=True,bins=100,alpha=0.5,color='blue');\n",
    "plt.hist(samples3.flatten(),density=True,bins=100,alpha=0.5,color='green');"
   ]
  },
  {
   "cell_type": "code",
   "execution_count": null,
   "metadata": {},
   "outputs": [],
   "source": [
    "# bvbq.distributions.MixtureDiagonalNormalDistribution.logprob_(\n",
    "#                         x,mixmeans_test,mixvars_test,mixweights_test)\n"
   ]
  },
  {
   "cell_type": "code",
   "execution_count": 5,
   "metadata": {},
   "outputs": [],
   "source": [
    "data = np.load('/home/danilo/Temp/TestBVBQ/data.npz')\n",
    "data2 = np.load('/home/danilo/Temp/TestBVBQ/data2.npz')"
   ]
  },
  {
   "cell_type": "code",
   "execution_count": 184,
   "metadata": {},
   "outputs": [
    {
     "name": "stdout",
     "output_type": "stream",
     "text": [
      "-2.0309563\n",
      "--\n"
     ]
    }
   ],
   "source": [
    "logprobgp = bvbq.gp.SimpleGP(1,kind='smatern32',noise=0,zeromax=True)\n",
    "logprobgp.mean = data['gpmean']\n",
    "logprobgp.noise = data['noise']\n",
    "logprobgp.lengthscale = data['lengthscale']\n",
    "logprobgp.theta = data['outputscale']\n",
    "logprobgp.set_data(data['X'],data['y'].flatten(),empirical_params=False)"
   ]
  },
  {
   "cell_type": "code",
   "execution_count": 189,
   "metadata": {},
   "outputs": [
    {
     "name": "stdout",
     "output_type": "stream",
     "text": [
      "11.8 ms ± 1.38 ms per loop (mean ± std. dev. of 7 runs, 100 loops each)\n"
     ]
    }
   ],
   "source": [
    "x = jnp.array([[1.0],[2.0]])\n",
    "%timeit logprobgp.predict(x,return_cov=True)"
   ]
  },
  {
   "cell_type": "code",
   "execution_count": 180,
   "metadata": {},
   "outputs": [
    {
     "name": "stdout",
     "output_type": "stream",
     "text": [
      "8.414944e-08\n"
     ]
    }
   ],
   "source": [
    "samples = jnp.sqrt(data['var'])*data['zsamples'] + data['mean']\n",
    "r1 = -bvbq.distributions.MixtureDiagonalNormalDistribution.\\\n",
    "     logprob_(samples,data['mixmeans'],data['mixvars'],data['mixweights']).mean()\n",
    "# r1 = bvbq.utils.logbound(r1,data['stabilizer'])\n",
    "r2 = data['term2'].mean()\n",
    "print(jnp.abs(r1 - r2)/jnp.abs(r1))\n",
    "# data2 = np.load('/home/danilo/Temp/TestBVBQ/data2.npz')"
   ]
  },
  {
   "cell_type": "code",
   "execution_count": 181,
   "metadata": {},
   "outputs": [
    {
     "name": "stdout",
     "output_type": "stream",
     "text": [
      "Elapsed time is 0.016379 seconds.\n",
      "Elapsed time is 0.000806 seconds.\n",
      "Elapsed time is 0.000773 seconds.\n"
     ]
    },
    {
     "data": {
      "text/plain": [
       "(DeviceArray(-2.533722, dtype=float32),\n",
       " DeviceArray(2.8332758, dtype=float32),\n",
       " DeviceArray(1.6835561, dtype=float32))"
      ]
     },
     "execution_count": 181,
     "metadata": {},
     "output_type": "execute_result"
    }
   ],
   "source": [
    "def mcbq_dmvn_relbo_test(logprobgp,mean,var,mixmeans,mixvars,mixweights,\n",
    "                         zsamples,logdelta=-20,reg=1e-2):\n",
    "#     subkey,key = jax.random.split(key)\n",
    "#     samples = bvbq.distributions.DiagonalNormalDistribution.sample_(nsamples,mean,var,subkey)\n",
    "    tictoc = TicToc()\n",
    "    samples = jnp.sqrt(var)*zsamples+mean\n",
    "    tictoc.tic()\n",
    "    term1 = bvbq.bq.separable_dmvn_bq(logprobgp,mean,var,return_var=False) #Variance\n",
    "    tictoc.toc()\n",
    "#     print(mixmeans,mixvars,mixweights)\n",
    "#     term2 = bvbq.utils.lb_mvn_mixmvn_cross_entropy(mean,var,mixmeans,mixvars,mixweights,logdelta)\n",
    "    tictoc.tic()\n",
    "    term2 = -bvbq.utils.logbound(\n",
    "                bvbq.distributions.MixtureDiagonalNormalDistribution.logprob_(\n",
    "                    samples,mixmeans,mixvars,mixweights),\n",
    "                logdelta).mean()\n",
    "    tictoc.toc()\n",
    "#     term2 = -bvbq.distributions.MixtureDiagonalNormalDistribution.logprob_(\n",
    "#                     samples,mixmeans,mixvars,mixweights).mean()\n",
    "    tictoc.tic()\n",
    "    term3 = 0.5*jnp.sum(jnp.log(2*jnp.pi*jnp.e*var)) #Entropy\n",
    "    tictoc.toc()\n",
    "    return term1,term2,term3\n",
    "mcbq_dmvn_relbo_test(logprobgp,data['mean'],data['var'],data['mixmeans'],data['mixvars'],data['mixweights'],\n",
    "                     data['zsamples'],reg=1e-2)"
   ]
  },
  {
   "cell_type": "code",
   "execution_count": 169,
   "metadata": {},
   "outputs": [
    {
     "data": {
      "text/plain": [
       "array(2.8332756, dtype=float32)"
      ]
     },
     "execution_count": 169,
     "metadata": {},
     "output_type": "execute_result"
    }
   ],
   "source": [
    "data['term2']"
   ]
  },
  {
   "cell_type": "code",
   "execution_count": null,
   "metadata": {},
   "outputs": [],
   "source": []
  },
  {
   "cell_type": "code",
   "execution_count": 137,
   "metadata": {},
   "outputs": [],
   "source": [
    "def mcbq_dmvn_relbo(logprobgp,mean,var,mixmeans,mixvars,mixweights,\n",
    "                    key,nsamples=1000,logdelta=-10,reg=1e-2):\n",
    "    subkey,key = jax.random.split(key)\n",
    "    samples = bvbq.distributions.DiagonalNormalDistribution.sample_(nsamples,mean,var,subkey)\n",
    "    term1 = bvbq.bq.separable_dmvn_bq(logprobgp,mean,var,return_var=False) #Variance\n",
    "#     print(mixmeans,mixvars,mixweights)\n",
    "#     term2 = bvbq.utils.lb_mvn_mixmvn_cross_entropy(mean,var,mixmeans,mixvars,mixweights,logdelta)\n",
    "    term2 = -bvbq.utils.logbound(\n",
    "                bvbq.distributions.MixtureDiagonalNormalDistribution.logprob_(\n",
    "                    samples,mixmeans,mixvars,mixweights),\n",
    "                logdelta).mean()\n",
    "#     term2 = -bvbq.distributions.MixtureDiagonalNormalDistribution.logprob_(\n",
    "#                     samples,mixmeans,mixvars,mixweights).mean()\n",
    "    term3 = 0.5*jnp.sum(jnp.log(2*jnp.pi*jnp.e*var)) #Entropy\n",
    "    return term1 + term2 + reg*term3\n",
    "\n",
    "def mcbq_mixdmvn_gradboost_elbo(logprobgp,weight,mean,var,\n",
    "                                mixmeans,mixvars,mixweights,\n",
    "                                key,nsamples=1000):\n",
    "    mixmeans_up = jnp.vstack([mixmeans,mean])\n",
    "    mixvars_up = jnp.vstack([mixvars,var])\n",
    "    mixweights_up = jnp.append((1-weight)*mixweights,weight)\n",
    "    term1 = bvbq.bq.separable_mixdmvn_bq(logprobgp,mixmeans_up,\n",
    "                                         mixvars_up,mixweights_up,\n",
    "                                         return_var=False)\n",
    "    subkeya,key = jax.random.split(key)\n",
    "    subkeyb,key = jax.random.split(key)\n",
    "    subkeyc,key = jax.random.split(key)\n",
    "    samples2 = bvbq.distributions.MixtureDiagonalNormalDistribution.sample_(nsamples,\n",
    "                                                                            mixmeans,\n",
    "                                                                            mixvars,\n",
    "                                                                            mixweights,\n",
    "                                                                            subkeya,subkeyb)\n",
    "    samples3 = bvbq.distributions.DiagonalNormalDistribution.sample_(nsamples,mean,var,subkeyc)\n",
    "    term2 = -(1-weight)*bvbq.distributions.MixtureDiagonalNormalDistribution.logprob_(\n",
    "                    samples2,mixmeans_up,mixvars_up,mixweights_up).mean()\n",
    "    term3 = -weight*bvbq.distributions.MixtureDiagonalNormalDistribution.logprob_(\n",
    "                    samples3,mixmeans_up,mixvars_up,mixweights_up).mean()\n",
    "    return term1 + term2 + term3\n",
    "#     term2 = weight*bvbq.bq.separable_dmvn_bq(logprobgp,mean,var,return_var=False)\n",
    "#     subkey1,key = jax.random.split(key)\n",
    "#     subkey2,key = jax.random.split(key)\n",
    "#     samples3 = bvbq.distributions.MixtureDiagonalNormalDistribution.sample_(nsamples,\n",
    "#                                                                             mixmeans,\n",
    "#                                                                             mixvars,\n",
    "#                                                                             mixweights,\n",
    "#                                                                             subkey1,subkey2)\n",
    "#     subkey3,key = jax.random.split(key)\n",
    "#     samples4 = bvbq.distributions.DiagonalNormalDistribution.sample_(nsamples,mean,var,subkey)\n",
    "#     mixmeans_up = jnp.vstack([mixmeans,mean])\n",
    "#     mixvars_up = jnp.vstack([mixvars,var])\n",
    "#     mixweights_up = jnp.append((1-weight)*mixweights,weight)\n",
    "#     term3 = -(1-weight)*bvbq.distributions.MixtureDiagonalNormalDistribution.logprob_(\n",
    "#                     samples3,mixmeans_up,mixvars_up,mixweights_up).mean()\n",
    "#     term4 = -weight*bvbq.distributions.MixtureDiagonalNormalDistribution.logprob_(\n",
    "#                     samples4,mixmeans_up,mixvars_up,mixweights_up).mean()\n",
    "# #     term3 = -(1-weight)*join_distributions(samples3,weight,mean,var,mixmeans,mixvars,mixweights).mean()\n",
    "# #     term4 = -weight*join_distributions(samples4,weight,mean,var,mixmeans,mixvars,mixweights).mean()\n",
    "#     return term1 + term2 + term3 + term4\n",
    "\n",
    "def join_distributions(samples,weight,mean,var,mixmeans,mixvars,mixweights):\n",
    "    terma = bvbq.distributions.MixtureDiagonalNormalDistribution.logprob_(\n",
    "                    samples,mixmeans,mixvars,mixweights)\n",
    "    termb = bvbq.distributions.DiagonalNormalDistribution.logprob_(\n",
    "                    samples,mean,var)\n",
    "    term = bvbq.utils.logsumexp(jnp.stack([terma,termb],axis=-1),\n",
    "                                weights=jnp.array([1.-weight,weight]),\n",
    "                                axis=-1)\n",
    "    return term"
   ]
  },
  {
   "cell_type": "code",
   "execution_count": 153,
   "metadata": {},
   "outputs": [],
   "source": [
    "def objective_function_relbo(params,mixmeans,mixvars,mixweights,key):\n",
    "    mean,rawvar = params['mean'],params['rawvar']\n",
    "    var = jax.nn.softplus(rawvar)\n",
    "    res = -mcbq_dmvn_relbo(logprobgp,mean,var,mixmeans,mixvars,mixweights,key,\n",
    "                           nsamples=100,logdelta=-10,reg=1e0)\n",
    "    return res\n",
    "\n",
    "def objective_function_gradboost(weight,mean,var,\n",
    "                                 mixmeans,mixvars,mixweights,\n",
    "                                 key):\n",
    "    res = -mcbq_mixdmvn_gradboost_elbo(logprobgp,weight,mean,var,\n",
    "                                mixmeans,mixvars,mixweights,\n",
    "                                key,nsamples=100)\n",
    "    return res\n",
    "\n",
    "func_and_grad_relbo = jax.value_and_grad(objective_function_relbo,argnums=0)\n",
    "func_and_grad_gradboost = jax.value_and_grad(objective_function_gradboost,argnums=0)"
   ]
  },
  {
   "cell_type": "code",
   "execution_count": 160,
   "metadata": {},
   "outputs": [
    {
     "data": {
      "text/plain": [
       "array([1.10004099])"
      ]
     },
     "execution_count": 160,
     "metadata": {},
     "output_type": "execute_result"
    }
   ],
   "source": [
    "scipy.stats.halfnorm.rvs(size=(1,))"
   ]
  },
  {
   "cell_type": "code",
   "execution_count": 162,
   "metadata": {},
   "outputs": [
    {
     "data": {
      "text/plain": [
       "DeviceArray([-21.02821], dtype=float32)"
      ]
     },
     "execution_count": 162,
     "metadata": {},
     "output_type": "execute_result"
    }
   ],
   "source": [
    "bvbq.distributions.MixtureDiagonalNormalDistribution.sample_(1,mixmeans,mixvars,mixweights,subkeya,subkeyb)[0]"
   ]
  },
  {
   "cell_type": "code",
   "execution_count": null,
   "metadata": {},
   "outputs": [],
   "source": [
    "#log(1+exp(x)) = y -> exp(x) = log(1-exp(y))"
   ]
  },
  {
   "cell_type": "code",
   "execution_count": 166,
   "metadata": {},
   "outputs": [
    {
     "name": "stdout",
     "output_type": "stream",
     "text": [
      "Elapsed time is 22.275054 seconds.\n"
     ]
    },
    {
     "ename": "KeyError",
     "evalue": "",
     "output_type": "error",
     "traceback": [
      "\u001b[0;31m---------------------------------------------------------------------------\u001b[0m",
      "\u001b[0;31mKeyError\u001b[0m                                  Traceback (most recent call last)",
      "\u001b[0;32m<ipython-input-166-c9acd47a731d>\u001b[0m in \u001b[0;36m<module>\u001b[0;34m\u001b[0m\n\u001b[1;32m     36\u001b[0m         \u001b[0mparams\u001b[0m \u001b[0;34m=\u001b[0m \u001b[0moptwrapper\u001b[0m\u001b[0;34m.\u001b[0m\u001b[0mparams\u001b[0m\u001b[0;34m\u001b[0m\u001b[0;34m\u001b[0m\u001b[0m\n\u001b[1;32m     37\u001b[0m     \u001b[0mtictoc\u001b[0m\u001b[0;34m.\u001b[0m\u001b[0mtoc\u001b[0m\u001b[0;34m(\u001b[0m\u001b[0;34m)\u001b[0m\u001b[0;34m\u001b[0m\u001b[0;34m\u001b[0m\u001b[0m\n\u001b[0;32m---> 38\u001b[0;31m     \u001b[0;32mraise\u001b[0m \u001b[0mKeyError\u001b[0m\u001b[0;34m\u001b[0m\u001b[0;34m\u001b[0m\u001b[0m\n\u001b[0m\u001b[1;32m     39\u001b[0m \u001b[0;31m#     subkeya,key = jax.random.split(key)\u001b[0m\u001b[0;34m\u001b[0m\u001b[0;34m\u001b[0m\u001b[0;34m\u001b[0m\u001b[0m\n\u001b[1;32m     40\u001b[0m \u001b[0;31m#     subkeyb,key = jax.random.split(key)\u001b[0m\u001b[0;34m\u001b[0m\u001b[0;34m\u001b[0m\u001b[0;34m\u001b[0m\u001b[0m\n",
      "\u001b[0;31mKeyError\u001b[0m: "
     ]
    }
   ],
   "source": [
    "# mean,var = distrib.params\n",
    "# mixmeans = mean.reshape(1,-1)\n",
    "# mixvars = var.reshape(1,-1)\n",
    "dim = 1\n",
    "mean = jnp.zeros((dim,))\n",
    "var = (20.0/3)**2*jnp.ones((dim,))\n",
    "mean,var = distrib.params\n",
    "mixmeans = jnp.expand_dims(mean,-1)\n",
    "mixvars = jnp.expand_dims(var,-1)*12\n",
    "mixweights = jnp.ones(1)\n",
    "\n",
    "alpha_relbo = 1e-3\n",
    "maxiter_relbo = 300\n",
    "alpha_boost = 1e-1\n",
    "maxiter_boost = 100\n",
    "maxiter = 10\n",
    "optwrapper = bvbq.optwrapper.JaxOptWrapper(\"adam\",alpha_relbo)\n",
    "\n",
    "key = jax.random.PRNGKey(100)\n",
    "\n",
    "tictoc = TicToc()\n",
    "for k in range(maxiter):\n",
    "    tictoc.tic()\n",
    "    subkeya,key = jax.random.split(key)\n",
    "    subkeyb,key = jax.random.split(key)\n",
    "    subkeyc,key = jax.random.split(key)\n",
    "    mean_init = bvbq.distributions.MixtureDiagonalNormalDistribution.sample_(\n",
    "                    1,mixmeans,mixvars,mixweights,subkeya,subkeyb)[0]\n",
    "    var_init = jnp.array(scipy.stats.halfnorm.rvs(size=(1,)),dtype=jnp.float32)\n",
    "    rawvar_init = jnp.log(1-jnp.exp(var_init))\n",
    "    params = {'mean':mean_init,\n",
    "              'rawvar':rawvar_init}\n",
    "    optwrapper.init(params,func_and_grad_relbo)\n",
    "    for i in range(maxiter_relbo):\n",
    "        value,grads = optwrapper.step(mixmeans,mixvars,mixweights,subkey)\n",
    "        params = optwrapper.params\n",
    "    tictoc.toc()\n",
    "    raise KeyError\n",
    "#     subkeya,key = jax.random.split(key)\n",
    "#     subkeyb,key = jax.random.split(key)\n",
    "\n",
    "#     params = {'mean':jnp.array(np.random.normal(size=(dim,))),\n",
    "#               'var':jnp.exp(jnp.array(np.random.normal(size=(dim,))))}\n",
    "#     params = collections.OrderedDict(params)\n",
    "#     lb_dict = collections.OrderedDict({'mean':(-1e10,)*dim,'var':(1e-6,)*dim})\n",
    "#     ub_dict = collections.OrderedDict({'mean':(1e10,)*dim,'var':(1e10,)*dim})\n",
    "#     res = dict_minimize.jax_api.minimize(func_and_grad_relbo, params,\n",
    "#                                          args=(mixmeans,mixvars,mixweights,subkey),\n",
    "#                                          method='L-BFGS-B',\n",
    "#                                          lb_dict=lb_dict,\n",
    "#                                          ub_dict=ub_dict,\n",
    "#                                          tol=1e-6)\n",
    "# #     raise KeyError\n",
    "#     mean,var = params['mean'],params['var']\n",
    "#     mean = jnp.ones((1,));var=jnp.ones((1,))\n",
    "    weight = 1e-4\n",
    "    for i in range(maxiter_boost):\n",
    "        subkey,key = jax.random.split(key)\n",
    "        res,gradweight = func_and_grad_gradboost(weight,mean,var,mixmeans,mixvars,mixweights,subkey)\n",
    "#         weight = -alpha_boost*(i/10+1)**(-0.55)*gradweight\n",
    "        weight -= alpha_boost*gradweight\n",
    "        weight = jnp.clip(weight,1e-4,1-1e-4)\n",
    "        if abs(gradweight) < 1e-4:\n",
    "            break\n",
    "#     mixdistrib.add_component(mean,var,weight)\n",
    "    mixweights = jnp.append((1-weight)*mixweights,weight)\n",
    "    mixmeans = jnp.vstack([mixmeans,mean])\n",
    "    mixvars = jnp.vstack([mixvars,var])\n",
    "    print(k,mean,var,weight)\n",
    "    print('--')\n",
    "    "
   ]
  },
  {
   "cell_type": "code",
   "execution_count": 31,
   "metadata": {},
   "outputs": [
    {
     "data": {
      "text/plain": [
       "[<matplotlib.lines.Line2D at 0x7fb95815ab50>]"
      ]
     },
     "execution_count": 31,
     "metadata": {},
     "output_type": "execute_result"
    },
    {
     "data": {
      "image/png": "[encoded data removed]",
      "text/plain": [
       "<Figure size 432x288 with 1 Axes>"
      ]
     },
     "metadata": {
      "needs_background": "light"
     },
     "output_type": "display_data"
    }
   ],
   "source": [
    "boostdistrib = bvbq.distributions.MixtureDiagonalNormalDistribution(mixmeans,mixvars,mixweights)\n",
    "xplot = np.linspace(-20,20,201).reshape(-1,1)\n",
    "yplot1 = logprob_mixgaussians(xplot)\n",
    "yplot2 = logprobgp.predict(xplot,return_cov=False)\n",
    "yplot3 = boostdistrib.logprob(xplot).reshape(-1,1)\n",
    "plt.plot(xplot,jnp.exp(yplot1),'b')\n",
    "plt.plot(xplot,jnp.exp(yplot2),'r')\n",
    "plt.plot(xplot,jnp.exp(yplot3),'g')"
   ]
  },
  {
   "cell_type": "code",
   "execution_count": 28,
   "metadata": {},
   "outputs": [
    {
     "data": {
      "text/plain": [
       "DeviceArray([1.2771407e-07, 3.6267576e-07, 2.1198957e-05, 1.6730334e-07,\n",
       "             2.1850838e-01, 2.1855207e-05, 2.1857393e-05, 2.1859580e-05,\n",
       "             2.1861768e-05, 1.7548002e-01, 3.9413710e-05, 1.1455228e-01,\n",
       "             4.9111062e-01, 9.9989993e-05, 9.9999997e-05], dtype=float32)"
      ]
     },
     "execution_count": 28,
     "metadata": {},
     "output_type": "execute_result"
    }
   ],
   "source": [
    "mixweights"
   ]
  },
  {
   "cell_type": "code",
   "execution_count": null,
   "metadata": {},
   "outputs": [],
   "source": []
  },
  {
   "cell_type": "code",
   "execution_count": null,
   "metadata": {},
   "outputs": [],
   "source": []
  }
 ],
 "metadata": {
  "kernelspec": {
   "display_name": "Python 3",
   "language": "python",
   "name": "python3"
  },
  "language_info": {
   "codemirror_mode": {
    "name": "ipython",
    "version": 3
   },
   "file_extension": ".py",
   "mimetype": "text/x-python",
   "name": "python",
   "nbconvert_exporter": "python",
   "pygments_lexer": "ipython3",
   "version": "3.7.7"
  }
 },
 "nbformat": 4,
 "nbformat_minor": 2
}
