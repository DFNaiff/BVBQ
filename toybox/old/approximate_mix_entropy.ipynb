{
 "cells": [
  {
   "cell_type": "code",
   "execution_count": 1,
   "metadata": {},
   "outputs": [],
   "source": [
    "%load_ext autoreload\n",
    "%autoreload 2"
   ]
  },
  {
   "cell_type": "code",
   "execution_count": 2,
   "metadata": {},
   "outputs": [],
   "source": [
    "import sys\n",
    "sys.path.append('..')\n",
    "\n",
    "import collections\n",
    "import functools\n",
    "import abc\n",
    "import random\n",
    "\n",
    "import numpy as np\n",
    "import jax\n",
    "import jax.numpy as jnp\n",
    "import jax.experimental.optimizers\n",
    "import matplotlib.pyplot as plt\n",
    "from mpl_toolkits.mplot3d import Axes3D\n",
    "import sobol_seq\n",
    "import dict_minimize\n",
    "\n",
    "import bvbq\n",
    "# import bvbq.gp\n",
    "# import bvbq.bvi\n",
    "# import bvbq.distributions"
   ]
  },
  {
   "cell_type": "code",
   "execution_count": 3,
   "metadata": {},
   "outputs": [],
   "source": [
    "ndim = 2\n",
    "def exponential_quartic(x):\n",
    "    x1,x2 = x[...,0],x[...,1]\n",
    "    res = -0.1*x1**4 -0.5*(2*x2-x1**2)**2\n",
    "#     return -0.5*((x1+1)**2 + (x2 - 1)**2)\n",
    "    return res"
   ]
  },
  {
   "cell_type": "code",
   "execution_count": 4,
   "metadata": {},
   "outputs": [
    {
     "name": "stderr",
     "output_type": "stream",
     "text": [
      "W0806 15:04:25.793346 139889439369024 xla_bridge.py:137] No GPU/TPU found, falling back to CPU. (Set TF_CPP_MIN_LOG_LEVEL=0 and rerun for more info.)\n"
     ]
    },
    {
     "name": "stdout",
     "output_type": "stream",
     "text": [
      "[-1.00437   -1.0531996]\n",
      "[-25.089006 -15.40317  -20.902403 -32.511047 -21.999987]\n",
      "[-0.9081288 -1.0328283]\n",
      "[-5.058856  -7.8872323 -7.092367  -2.303052  -4.6215954]\n",
      "-0.66964185\n",
      "-0.60675174\n"
     ]
    }
   ],
   "source": [
    "x = np.random.rand(5,2)\n",
    "\n",
    "distrib = bvbq.distributions.DiagonalNormalDistribution(-jnp.ones(2),0.1*jnp.ones(2))\n",
    "print(distrib.sample(100).mean(axis=0))\n",
    "print(distrib.logprob(x))\n",
    "print(distrib.sample(101).mean(axis=0))\n",
    "mixdistrib = distrib.make_mixture()\n",
    "mixdistrib.add_component(jnp.ones(2),0.1*jnp.ones(2),0.1)\n",
    "mixdistrib.add_component(2*jnp.ones(2),0.1*jnp.ones(2),0.1)\n",
    "print(mixdistrib.logprob(x))\n",
    "print(mixdistrib.sample(100).mean())\n",
    "print(mixdistrib.sample(101).mean())"
   ]
  },
  {
   "cell_type": "code",
   "execution_count": 20,
   "metadata": {},
   "outputs": [],
   "source": [
    "x = mixdistrib.means[0,:]\n",
    "f = mixdistrib.logprob\n",
    "df = jax.grad(mixdistrib.logprob)\n",
    "dfv = lambda x,v : jnp.sum(df(x)*v)\n",
    "ddfv = jax.grad(dfv,argnums=0)\n"
   ]
  },
  {
   "cell_type": "code",
   "execution_count": 19,
   "metadata": {},
   "outputs": [
    {
     "name": "stdout",
     "output_type": "stream",
     "text": [
      "The slowest run took 45.94 times longer than the fastest. This could mean that an intermediate result is being cached.\n",
      "85.9 ms ± 55.3 ms per loop (mean ± std. dev. of 7 runs, 1 loop each)\n"
     ]
    }
   ],
   "source": []
  },
  {
   "cell_type": "code",
   "execution_count": null,
   "metadata": {},
   "outputs": [],
   "source": []
  }
 ],
 "metadata": {
  "kernelspec": {
   "display_name": "Python 3",
   "language": "python",
   "name": "python3"
  },
  "language_info": {
   "codemirror_mode": {
    "name": "ipython",
    "version": 3
   },
   "file_extension": ".py",
   "mimetype": "text/x-python",
   "name": "python",
   "nbconvert_exporter": "python",
   "pygments_lexer": "ipython3",
   "version": "3.7.7"
  }
 },
 "nbformat": 4,
 "nbformat_minor": 2
}
