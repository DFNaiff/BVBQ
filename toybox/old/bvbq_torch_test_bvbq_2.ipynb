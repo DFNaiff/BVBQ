{
 "cells": [
  {
   "cell_type": "code",
   "execution_count": 24,
   "metadata": {},
   "outputs": [
    {
     "name": "stdout",
     "output_type": "stream",
     "text": [
      "The autoreload extension is already loaded. To reload it, use:\n",
      "  %reload_ext autoreload\n"
     ]
    }
   ],
   "source": [
    "%load_ext autoreload\n",
    "%autoreload 2"
   ]
  },
  {
   "cell_type": "code",
   "execution_count": 25,
   "metadata": {},
   "outputs": [],
   "source": [
    "import sys\n",
    "sys.path.append('..')\n",
    "import functools\n",
    "import math\n",
    "\n",
    "import numpy as np\n",
    "import torch\n",
    "import matplotlib.pyplot as plt\n",
    "from mpl_toolkits.mplot3d import Axes3D\n",
    "import sobol_seq\n",
    "\n",
    "import bvbq_torch"
   ]
  },
  {
   "cell_type": "code",
   "execution_count": 26,
   "metadata": {},
   "outputs": [],
   "source": [
    "mixmeans_test = torch.tensor([[  1.8033],\n",
    "                           [ -1.4296],\n",
    "                           [ -1.9691],\n",
    "                           [  1.2147],\n",
    "                           [ -6.9166],\n",
    "                           [-11.5672],\n",
    "                           [ -1.5860],\n",
    "                           [ -4.3302],\n",
    "                           [  8.7410],\n",
    "                           [ -1.3793],\n",
    "                           [ -4.8774],\n",
    "                           [  2.3949]])\n",
    "mixvars_test = torch.ones((12,1))\n",
    "mixweights_test = torch.ones(12)/12"
   ]
  },
  {
   "cell_type": "code",
   "execution_count": 27,
   "metadata": {},
   "outputs": [],
   "source": [
    "def logprob_mixgaussians(x):\n",
    "    return bvbq_torch.distributions.MixtureDiagonalNormalDistribution.logprob_(\n",
    "                        x,mixmeans_test,mixvars_test,mixweights_test).reshape(-1,1)\n",
    "def logprob_t(x,nu):\n",
    "    normalizer = jax.scipy.special.gammaln((nu+1)/2) \\\n",
    "                 -jax.scipy.special.gammaln(nu/2) \\\n",
    "                 -0.5*jnp.log(jnp.pi*nu)\n",
    "    main_term = -(nu+1)/2*jnp.log(1+x**2/nu)\n",
    "    return main_term + normalizer\n",
    "\n",
    "xdata = torch.linspace(-20,20,51).reshape(-1,1)\n",
    "ydata = logprob_mixgaussians(xdata)\n",
    "logprobgp = bvbq_torch.gp.SimpleGP(1,kind='smatern32',noise=0,zeromax=True)\n",
    "logprobgp.mean = -10.0\n",
    "logprobgp.fix_mean()\n",
    "logprobgp.fix_noise()\n",
    "logprobgp.set_data(xdata,ydata,empirical_params=False)\n",
    "# logprobgp.optimize_params(tol=1e-1)"
   ]
  },
  {
   "cell_type": "code",
   "execution_count": 28,
   "metadata": {},
   "outputs": [
    {
     "data": {
      "text/plain": [
       "torch.Size([51, 1])"
      ]
     },
     "execution_count": 28,
     "metadata": {},
     "output_type": "execute_result"
    }
   ],
   "source": [
    "ydata.shape"
   ]
  },
  {
   "cell_type": "code",
   "execution_count": 29,
   "metadata": {},
   "outputs": [
    {
     "name": "stdout",
     "output_type": "stream",
     "text": [
      "tensor(1., grad_fn=<LogBackward>) tensor(1., grad_fn=<LogBackward>)\n",
      "tensor(1.6341, grad_fn=<LogBackward>) tensor(1.3310, grad_fn=<LogBackward>)\n",
      "tensor(2.1585, grad_fn=<LogBackward>) tensor(1.5363, grad_fn=<LogBackward>)\n",
      "tensor(2.9973, grad_fn=<LogBackward>) tensor(1.7991, grad_fn=<LogBackward>)\n",
      "tensor(3.9925, grad_fn=<LogBackward>) tensor(2.0419, grad_fn=<LogBackward>)\n",
      "tensor(5.3154, grad_fn=<LogBackward>) tensor(2.2802, grad_fn=<LogBackward>)\n",
      "tensor(7.0132, grad_fn=<LogBackward>) tensor(2.5033, grad_fn=<LogBackward>)\n",
      "tensor(9.2323, grad_fn=<LogBackward>) tensor(2.7578, grad_fn=<LogBackward>)\n",
      "tensor(12.1525, grad_fn=<LogBackward>) tensor(3.0216, grad_fn=<LogBackward>)\n",
      "tensor(15.9247, grad_fn=<LogBackward>) tensor(3.6163, grad_fn=<LogBackward>)\n",
      "tensor(22.6235, grad_fn=<LogBackward>) tensor(2.2306, grad_fn=<LogBackward>)\n"
     ]
    },
    {
     "data": {
      "text/plain": [
       "{'raw_theta': tensor(22.6235), 'raw_lengthscale': tensor(2.1170)}"
      ]
     },
     "execution_count": 29,
     "metadata": {},
     "output_type": "execute_result"
    }
   ],
   "source": [
    "gp = bvbq_torch.gp.SimpleGP(1,kind='smatern32',noise=1e-2)\n",
    "gp.set_data(xdata,ydata)\n",
    "gp.mean = -10.0\n",
    "gp.fix_mean()\n",
    "gp.fix_noise()\n",
    "gp.optimize_params(tol=1e-1)"
   ]
  },
  {
   "cell_type": "code",
   "execution_count": 30,
   "metadata": {},
   "outputs": [
    {
     "data": {
      "image/png": "[encoded data removed]",
      "text/plain": [
       "<Figure size 432x288 with 1 Axes>"
      ]
     },
     "metadata": {
      "needs_background": "light"
     },
     "output_type": "display_data"
    }
   ],
   "source": [
    "xplot = np.linspace(-20,20,201).reshape(-1,1)\n",
    "yplot1 = logprob_mixgaussians(xplot).detach().numpy()\n",
    "# yplot1 = logprob_t(xplot,2.5)\n",
    "yplot2 = logprobgp.predict(xplot,return_cov=False).detach().numpy()\n",
    "plt.plot(xplot,np.exp(yplot1),'b')\n",
    "plt.plot(xplot,np.exp(yplot2),'r')\n",
    "samples1 = bvbq_torch.distributions.MixtureDiagonalNormalDistribution.sample_(100000,\n",
    "                                                             mixmeans_test,\n",
    "                                                             mixvars_test,\n",
    "                                                             mixweights_test).detach().numpy()\n",
    "plt.hist(samples1.flatten(),density=True,bins=100);"
   ]
  },
  {
   "cell_type": "code",
   "execution_count": 36,
   "metadata": {},
   "outputs": [
    {
     "data": {
      "text/plain": [
       "<function bvbq_torch.distributions.DiagonalNormalDistribution.sample_(n, mean, var)>"
      ]
     },
     "execution_count": 36,
     "metadata": {},
     "output_type": "execute_result"
    }
   ],
   "source": [
    "bvbq_torch.distributions.DiagonalNormalDistribution.sample_"
   ]
  },
  {
   "cell_type": "code",
   "execution_count": 37,
   "metadata": {},
   "outputs": [],
   "source": [
    "nmixtures = 3\n",
    "ndim = 1\n",
    "mixmeans = torch.randn(nmixtures,1)\n",
    "mixvars = torch.distributions.HalfNormal(1.0).sample((nmixtures,1))\n",
    "mixweights = torch.distributions.Dirichlet(torch.ones(nmixtures)).sample()\n",
    "mean = torch.randn((1,))\n",
    "var = torch.distributions.HalfNormal(1.0).sample((1,))"
   ]
  },
  {
   "cell_type": "code",
   "execution_count": 71,
   "metadata": {},
   "outputs": [
    {
     "name": "stdout",
     "output_type": "stream",
     "text": [
      "tensor([-2.2078]) tensor([6.6722]) tensor(0.9304)\n",
      "tensor([-12.0710]) tensor([0.5296]) tensor(0.0771)\n",
      "tensor([-8.6986]) tensor([4.8301]) tensor(0.0472)\n",
      "tensor([2.5669]) tensor([0.7356]) tensor(0.1158)\n",
      "tensor([0.3903]) tensor([3.7438]) tensor(0.0685)\n",
      "tensor([-1.1703]) tensor([4.5613]) tensor(0.0069)\n",
      "tensor([-0.1537]) tensor([5.9365]) tensor(0.0013)\n",
      "tensor([-1.1049]) tensor([4.7973]) tensor(0.0037)\n",
      "tensor([-6.6341]) tensor([2.5489]) tensor(0.0389)\n",
      "tensor([0.3701]) tensor([3.9626]) tensor(0.0178)\n",
      "tensor([-5.3784]) tensor([6.4786]) tensor(0.0045)\n",
      "tensor([-5.4293]) tensor([8.0267]) tensor(0.0002)\n",
      "tensor([1.0335]) tensor([4.0830]) tensor(1.0000e-04)\n",
      "tensor([-11.4299]) tensor([2.8589]) tensor(0.0036)\n",
      "tensor([-1.4425]) tensor([7.1404]) tensor(0.0023)\n",
      "tensor([-1.6076]) tensor([7.4702]) tensor(0.0014)\n",
      "tensor([-6.0006]) tensor([4.1324]) tensor(0.0030)\n",
      "tensor([-1.0781]) tensor([7.8554]) tensor(0.0014)\n",
      "tensor([-10.8283]) tensor([3.4460]) tensor(0.0010)\n",
      "tensor([-5.5668]) tensor([5.0957]) tensor(1.0000e-04)\n"
     ]
    }
   ],
   "source": [
    "alpha_relbo = 1e-1\n",
    "maxiter_relbo = 300\n",
    "alpha_boost = 1e-1\n",
    "maxiter_boost = 100\n",
    "maxiter = 20\n",
    "\n",
    "mixmeans = torch.zeros(1,ndim)\n",
    "mixvars = (20.0/3)**2*torch.ones(1,ndim)\n",
    "mixweights = torch.ones(1)\n",
    "for k in range(maxiter):\n",
    "    mean,var = bvbq_torch.bvbq.propose_component_mvn_mixmvn_relbo(\n",
    "                logprobgp,mixmeans,mixvars,mixweights)\n",
    "    mixmeans,mixvars,mixweights = bvbq_torch.bvbq.update_distribution_mvn_mixmvn(\n",
    "                                            logprobgp,\n",
    "                                            mean,var,\n",
    "                                            mixmeans,mixvars,\n",
    "                                            mixweights,\n",
    "                                            lr=1e-1/(k+1),\n",
    "                                            decaying_lr=False)\n",
    "\n",
    "    print(mixmeans[-1],mixvars[-1],mixweights[-1])\n",
    "distrib = bvbq_torch.distributions.MixtureDiagonalNormalDistribution(mixmeans,mixvars,mixweights)"
   ]
  },
  {
   "cell_type": "code",
   "execution_count": 72,
   "metadata": {},
   "outputs": [],
   "source": [
    "distrib = bvbq_torch.distributions.MixtureDiagonalNormalDistribution(mixmeans,mixvars,mixweights)"
   ]
  },
  {
   "cell_type": "code",
   "execution_count": 73,
   "metadata": {},
   "outputs": [
    {
     "data": {
      "text/plain": [
       "[<matplotlib.lines.Line2D at 0x7f93c0f6e4d0>]"
      ]
     },
     "execution_count": 73,
     "metadata": {},
     "output_type": "execute_result"
    },
    {
     "data": {
      "image/png": "[encoded data removed]",
      "text/plain": [
       "<Figure size 432x288 with 1 Axes>"
      ]
     },
     "metadata": {
      "needs_background": "light"
     },
     "output_type": "display_data"
    }
   ],
   "source": [
    "xplot = np.linspace(-20,20,201).reshape(-1,1)\n",
    "yplot1 = logprob_mixgaussians(xplot).detach().numpy()\n",
    "yplot2 = logprobgp.predict(xplot,return_cov=False).detach().numpy()\n",
    "yplot3 = distrib.logprob(xplot).detach().numpy().reshape(-1,1)\n",
    "plt.plot(xplot,np.exp(yplot1),'b')\n",
    "plt.plot(xplot,np.exp(yplot2),'r')\n",
    "plt.plot(xplot,np.exp(yplot3),'g')\n"
   ]
  },
  {
   "cell_type": "code",
   "execution_count": 67,
   "metadata": {},
   "outputs": [
    {
     "data": {
      "text/plain": [
       "tensor([[  0.0000],\n",
       "        [ -2.0015],\n",
       "        [-11.1066],\n",
       "        [  2.4547],\n",
       "        [  1.2085],\n",
       "        [ -6.9417],\n",
       "        [ -5.1998],\n",
       "        [ -5.1772],\n",
       "        [ -5.1097],\n",
       "        [  0.9014],\n",
       "        [ -1.2424],\n",
       "        [  0.3879],\n",
       "        [  0.9383],\n",
       "        [ -1.1825],\n",
       "        [  1.1225],\n",
       "        [  1.1218],\n",
       "        [ -2.1024],\n",
       "        [ -5.1252],\n",
       "        [ -1.5324],\n",
       "        [ -1.2997],\n",
       "        [ -5.2482]])"
      ]
     },
     "execution_count": 67,
     "metadata": {},
     "output_type": "execute_result"
    }
   ],
   "source": [
    "mixmeans"
   ]
  },
  {
   "cell_type": "code",
   "execution_count": 180,
   "metadata": {},
   "outputs": [
    {
     "data": {
      "text/plain": [
       "array([[-9.7850275],\n",
       "       [-9.693792 ],\n",
       "       [-9.602927 ],\n",
       "       [-9.512285 ],\n",
       "       [-9.421689 ],\n",
       "       [-9.330922 ],\n",
       "       [-9.23973  ],\n",
       "       [-9.147815 ],\n",
       "       [-9.054829 ],\n",
       "       [-8.960385 ],\n",
       "       [-8.864056 ],\n",
       "       [-8.765381 ],\n",
       "       [-8.663886 ],\n",
       "       [-8.559093 ],\n",
       "       [-8.450556 ],\n",
       "       [-8.337875 ],\n",
       "       [-8.22074  ],\n",
       "       [-8.098945 ],\n",
       "       [-7.9724154],\n",
       "       [-7.8412333],\n",
       "       [-7.7056265],\n",
       "       [-7.565976 ],\n",
       "       [-7.422797 ],\n",
       "       [-7.276711 ],\n",
       "       [-7.1284237],\n",
       "       [-6.97869  ],\n",
       "       [-6.828284 ],\n",
       "       [-6.6779766],\n",
       "       [-6.5285115],\n",
       "       [-6.380593 ],\n",
       "       [-6.2348695],\n",
       "       [-6.091934 ],\n",
       "       [-5.952317 ],\n",
       "       [-5.816489 ],\n",
       "       [-5.684864 ],\n",
       "       [-5.557799 ],\n",
       "       [-5.4356008],\n",
       "       [-5.318532 ],\n",
       "       [-5.2068095],\n",
       "       [-5.1006155],\n",
       "       [-5.0000935],\n",
       "       [-4.9053545],\n",
       "       [-4.8164806],\n",
       "       [-4.7335215],\n",
       "       [-4.6564984],\n",
       "       [-4.5854015],\n",
       "       [-4.5201855],\n",
       "       [-4.460764 ],\n",
       "       [-4.407001 ],\n",
       "       [-4.3586917],\n",
       "       [-4.315535 ],\n",
       "       [-4.2770905],\n",
       "       [-4.2427197],\n",
       "       [-4.2114997],\n",
       "       [-4.182125 ],\n",
       "       [-4.152801 ],\n",
       "       [-4.121172 ],\n",
       "       [-4.084343 ],\n",
       "       [-4.0390754],\n",
       "       [-3.982222 ],\n",
       "       [-3.9113724],\n",
       "       [-3.8255615],\n",
       "       [-3.7257566],\n",
       "       [-3.6148958],\n",
       "       [-3.497425 ],\n",
       "       [-3.3785422],\n",
       "       [-3.2634144],\n",
       "       [-3.1565847],\n",
       "       [-3.0616243],\n",
       "       [-2.9809775],\n",
       "       [-2.9159317],\n",
       "       [-2.8666298],\n",
       "       [-2.8321004],\n",
       "       [-2.8102942],\n",
       "       [-2.798163 ],\n",
       "       [-2.7918272],\n",
       "       [-2.7868948],\n",
       "       [-2.778962 ],\n",
       "       [-2.7642376],\n",
       "       [-2.7401526],\n",
       "       [-2.7057428],\n",
       "       [-2.661664 ],\n",
       "       [-2.6098473],\n",
       "       [-2.5529578],\n",
       "       [-2.4938567],\n",
       "       [-2.4352083],\n",
       "       [-2.3792694],\n",
       "       [-2.3278267],\n",
       "       [-2.2822318],\n",
       "       [-2.243474 ],\n",
       "       [-2.2122657],\n",
       "       [-2.189113 ],\n",
       "       [-2.1743753],\n",
       "       [-2.1683042],\n",
       "       [-2.1710706],\n",
       "       [-2.182775 ],\n",
       "       [-2.2034476],\n",
       "       [-2.233024 ],\n",
       "       [-2.271297 ],\n",
       "       [-2.3178234],\n",
       "       [-2.3717706],\n",
       "       [-2.431694 ],\n",
       "       [-2.4952652],\n",
       "       [-2.5590324],\n",
       "       [-2.618403 ],\n",
       "       [-2.6681218],\n",
       "       [-2.7034597],\n",
       "       [-2.7219324],\n",
       "       [-2.7248247],\n",
       "       [-2.717567 ],\n",
       "       [-2.708674 ],\n",
       "       [-2.7078605],\n",
       "       [-2.7242928],\n",
       "       [-2.765519 ],\n",
       "       [-2.837058 ],\n",
       "       [-2.9423783],\n",
       "       [-3.0829854],\n",
       "       [-3.2584362],\n",
       "       [-3.4661913],\n",
       "       [-3.7012856],\n",
       "       [-3.9559045],\n",
       "       [-4.2191324],\n",
       "       [-4.4773855],\n",
       "       [-4.7161036],\n",
       "       [-4.922718 ],\n",
       "       [-5.0895686],\n",
       "       [-5.214761 ],\n",
       "       [-5.300218 ],\n",
       "       [-5.3484564],\n",
       "       [-5.360289 ],\n",
       "       [-5.3345633],\n",
       "       [-5.2697115],\n",
       "       [-5.16605  ],\n",
       "       [-5.027398 ],\n",
       "       [-4.8610835],\n",
       "       [-4.676524 ],\n",
       "       [-4.4834466],\n",
       "       [-4.290666 ],\n",
       "       [-4.1056848],\n",
       "       [-3.9348574],\n",
       "       [-3.783741 ],\n",
       "       [-3.6573615],\n",
       "       [-3.5602775],\n",
       "       [-3.4964669],\n",
       "       [-3.4691195],\n",
       "       [-3.4804156],\n",
       "       [-3.53136  ],\n",
       "       [-3.6216936],\n",
       "       [-3.749898 ],\n",
       "       [-3.9132895],\n",
       "       [-4.108204 ],\n",
       "       [-4.3302307],\n",
       "       [-4.574437 ],\n",
       "       [-4.835499 ],\n",
       "       [-5.107668 ],\n",
       "       [-5.384587 ],\n",
       "       [-5.6590953],\n",
       "       [-5.923295 ],\n",
       "       [-6.1691694],\n",
       "       [-6.389813 ],\n",
       "       [-6.580903 ],\n",
       "       [-6.741652 ],\n",
       "       [-6.874659 ],\n",
       "       [-6.984769 ],\n",
       "       [-7.077586 ],\n",
       "       [-7.158323 ],\n",
       "       [-7.2312016],\n",
       "       [-7.2993393],\n",
       "       [-7.364879 ],\n",
       "       [-7.4292235],\n",
       "       [-7.493249 ],\n",
       "       [-7.5574865],\n",
       "       [-7.6222463],\n",
       "       [-7.687703 ],\n",
       "       [-7.7539563],\n",
       "       [-7.821056 ],\n",
       "       [-7.889028 ],\n",
       "       [-7.957889 ],\n",
       "       [-8.027644 ],\n",
       "       [-8.098296 ],\n",
       "       [-8.169847 ],\n",
       "       [-8.242297 ],\n",
       "       [-8.315647 ],\n",
       "       [-8.389897 ],\n",
       "       [-8.465047 ],\n",
       "       [-8.541097 ],\n",
       "       [-8.618048 ],\n",
       "       [-8.695897 ],\n",
       "       [-8.774648 ],\n",
       "       [-8.854297 ],\n",
       "       [-8.934847 ],\n",
       "       [-9.016297 ],\n",
       "       [-9.098647 ],\n",
       "       [-9.181897 ],\n",
       "       [-9.266047 ],\n",
       "       [-9.351097 ],\n",
       "       [-9.437047 ],\n",
       "       [-9.523897 ],\n",
       "       [-9.611648 ],\n",
       "       [-9.700297 ],\n",
       "       [-9.789847 ]], dtype=float32)"
      ]
     },
     "execution_count": 180,
     "metadata": {},
     "output_type": "execute_result"
    }
   ],
   "source": [
    "distrib.logprob(xplot).detach().numpy().reshape(-1,1)"
   ]
  },
  {
   "cell_type": "code",
   "execution_count": null,
   "metadata": {},
   "outputs": [],
   "source": []
  },
  {
   "cell_type": "code",
   "execution_count": null,
   "metadata": {},
   "outputs": [],
   "source": []
  },
  {
   "cell_type": "code",
   "execution_count": null,
   "metadata": {},
   "outputs": [],
   "source": []
  },
  {
   "cell_type": "code",
   "execution_count": null,
   "metadata": {},
   "outputs": [],
   "source": []
  },
  {
   "cell_type": "code",
   "execution_count": null,
   "metadata": {},
   "outputs": [],
   "source": []
  },
  {
   "cell_type": "code",
   "execution_count": null,
   "metadata": {},
   "outputs": [],
   "source": []
  },
  {
   "cell_type": "code",
   "execution_count": null,
   "metadata": {},
   "outputs": [],
   "source": []
  },
  {
   "cell_type": "code",
   "execution_count": 55,
   "metadata": {},
   "outputs": [
    {
     "name": "stdout",
     "output_type": "stream",
     "text": [
      "tensor([-11.8285]) tensor([0.4976]) tensor(0.1327)\n",
      "tensor([-2.0054]) tensor([3.5399]) tensor(0.7706)\n",
      "tensor([2.5362]) tensor([0.4516]) tensor(0.1412)\n",
      "tensor([-0.2610]) tensor([6.8757]) tensor(0.0216)\n",
      "tensor([-8.7760]) tensor([5.0642]) tensor(0.0979)\n",
      "tensor([-12.1265]) tensor([0.9025]) tensor(0.0301)\n",
      "tensor([-6.1218]) tensor([1.1819]) tensor(0.0905)\n",
      "tensor([0.9712]) tensor([2.6018]) tensor(0.1147)\n",
      "tensor([-5.2415]) tensor([2.9516]) tensor(0.0396)\n",
      "tensor([-2.8030]) tensor([6.5276]) tensor(0.0245)\n",
      "tensor([-0.0194]) tensor([6.8075]) tensor(0.0111)\n",
      "tensor([1.0070]) tensor([4.1454]) tensor(0.0036)\n",
      "tensor([-0.2075]) tensor([4.8808]) tensor(0.0311)\n",
      "tensor([-1.0863]) tensor([4.9748]) tensor(0.0300)\n",
      "tensor([-1.1797]) tensor([6.4069]) tensor(0.0144)\n",
      "tensor([-4.6402]) tensor([5.3485]) tensor(0.0029)\n",
      "tensor([-2.2033]) tensor([8.2416]) tensor(0.0075)\n",
      "tensor([-1.1506]) tensor([4.5256]) tensor(0.0148)\n",
      "tensor([-11.6234]) tensor([1.3575]) tensor(0.0247)\n",
      "tensor([-2.2240]) tensor([7.2275]) tensor(0.0185)\n"
     ]
    }
   ],
   "source": [
    "alpha_relbo = 1e-1\n",
    "maxiter_relbo = 100\n",
    "alpha_boost = 1e-1\n",
    "maxiter_boost = 100\n",
    "maxiter = 20\n",
    "\n",
    "mixmeans = torch.zeros(1,ndim)\n",
    "mixvars = (20.0/3)**2*torch.ones(1,ndim)\n",
    "mixweights = torch.ones(1)\n",
    "for k in range(maxiter):\n",
    "    mean0 = bvbq_torch.distributions.MixtureDiagonalNormalDistribution.sample_(1,mixmeans,mixvars,mixweights)[0,:]\n",
    "    var0 = torch.distributions.HalfNormal(1.0).sample((ndim,))\n",
    "    rawvar0 = torch.log(torch.exp(var0)-1)\n",
    "    optimizer = torch.optim.Adam([mean0,rawvar0],alpha_relbo)\n",
    "    mean0.requires_grad = True\n",
    "    rawvar0.requires_grad = True\n",
    "#     reg = torch.rand(1)\n",
    "    for i in range(maxiter_relbo):\n",
    "        optimizer.zero_grad()\n",
    "        var0 = torch.log(torch.exp(rawvar0)+1)\n",
    "        reg = torch.rand(1)\n",
    "        relbo = bvbq_torch.bvbq_functions.mcbq_dmvn_relbo(logprobgp,mean0,var0,mixmeans,mixvars,mixweights,reg=reg)\n",
    "        loss = -relbo\n",
    "        loss.backward()\n",
    "        optimizer.step()\n",
    "    mean = mean0.detach()\n",
    "    rawvar = rawvar0.detach()\n",
    "    var = torch.log(torch.exp(rawvar)+1.0)\n",
    "    weight = torch.tensor(1e-4)\n",
    "    grad_term_logprob = bvbq_torch.bvbq_functions.logprob_terms_mixdmvn_delbodw(weight,\n",
    "                                                                                logprobgp,\n",
    "                                                                                mean,var,\n",
    "                                                                                mixmeans,mixvars,\n",
    "                                                                                mixweights)\n",
    "    for j in range(maxiter_boost):\n",
    "        grad_term_entropy = bvbq_torch.bvbq_functions.entropy_terms_mixdmvn_delbodw(weight,\n",
    "                                                                                    mean,\n",
    "                                                                                    var,\n",
    "                                                                                    mixmeans,\n",
    "                                                                                    mixvars,\n",
    "                                                                                    mixweights,\n",
    "                                                                                    nsamples=1000)\n",
    "        grad = grad_term_logprob + grad_term_entropy\n",
    "#         grad = bvbq_torch.bvbq_functions.mcbq_mixdmvn_delbodw(weight,\n",
    "#                                                  logprobgp,\n",
    "#                                                  mean,\n",
    "#                                                  var,\n",
    "#                                                  mixmeans,\n",
    "#                                                  mixvars,\n",
    "#                                                  mixweights,\n",
    "#                                                  nsamples=1000)\n",
    "        dweight = alpha_boost/(k+1)*grad\n",
    "        weight += dweight\n",
    "        weight = torch.clamp(weight,1e-4,1-1e-4)\n",
    "    mixmeans = torch.vstack([mixmeans,mean])\n",
    "    mixvars = torch.vstack([mixvars,var])\n",
    "    mixweights = torch.hstack([(1-weight)*mixweights,weight])\n",
    "    print(mean,var,weight)\n",
    "# maxiter = kwargs.get(\"maxiter_nc\",300)\n",
    "# lr = kwargs.get(\"lr_nc\",0.1)\n",
    "# distrib_constant = kwargs.get(\"distrib_constant_nc\",1.0)\n",
    "# distrib_type = kwargs.get(\"distrib_type_nc\",\"HN\")\n",
    "# verbose = kwargs.get(\"verbose\",1)\n",
    "# nsamples_nc = kwargs.get(\"n_samples_nc\",100)\n",
    "# if self.num_mixtures == 0:\n",
    "#     raise NotImplementedError\n",
    "# else:\n",
    "#     mu0 = self._sample_from_current(1,flatten=True)\n",
    "#     if distrib_type == \"HN\":\n",
    "#         distrib = torch.distributions.HalfNormal\n",
    "#     elif distrib_type == \"HC\":\n",
    "#         distrib = torch.distributions.HalfCauchy\n",
    "#     cov0 = distrib(torch.tensor([distrib_constant],device=self.device)).\\\n",
    "#                 sample((self.dim,)).flatten()\n",
    "#     raw_cov0 = utils.invsoftplus(cov0)\n",
    "#     theta0 = torch.cat([mu0,raw_cov0])\n",
    "# theta0.requires_grad = True\n",
    "# optimizer = torch.optim.Adam([theta0],lr=lr)\n",
    "# for i in range(maxiter):\n",
    "#     optimizer.zero_grad()\n",
    "#     theta0.requires_grad = True\n",
    "#     loss = self._evaluate_loss(theta0,nsamples=nsamples_nc,\n",
    "#                               verbose=verbose)\n",
    "#     if verbose >= 2:\n",
    "#         print(theta0)\n",
    "#         print(loss)\n",
    "#     loss.backward()\n",
    "#     optimizer.step()\n",
    "# mu = theta0[:self.dim].detach()\n",
    "# cov = (utils.softplus(theta0[self.dim:])).detach() #covariance\n",
    "# if verbose >= 1:\n",
    "#     print(loss)\n",
    "# return mu,cov"
   ]
  },
  {
   "cell_type": "code",
   "execution_count": 57,
   "metadata": {},
   "outputs": [
    {
     "data": {
      "text/plain": [
       "[<matplotlib.lines.Line2D at 0x7f93c1760c50>]"
      ]
     },
     "execution_count": 57,
     "metadata": {},
     "output_type": "execute_result"
    },
    {
     "data": {
      "image/png": "[encoded data removed]",
      "text/plain": [
       "<Figure size 432x288 with 1 Axes>"
      ]
     },
     "metadata": {
      "needs_background": "light"
     },
     "output_type": "display_data"
    }
   ],
   "source": [
    "xplot = np.linspace(-20,20,201).reshape(-1,1)\n",
    "yplot1 = logprob_mixgaussians(xplot).detach().numpy()\n",
    "yplot2 = logprobgp.predict(xplot,return_cov=False).detach().numpy()\n",
    "yplot3 = distrib.logprob(xplot).detach().numpy().reshape(-1,1)\n",
    "plt.plot(xplot,np.exp(yplot1),'b')\n",
    "plt.plot(xplot,np.exp(yplot2),'r')\n",
    "plt.plot(xplot,np.exp(yplot3),'g')\n"
   ]
  },
  {
   "cell_type": "code",
   "execution_count": null,
   "metadata": {},
   "outputs": [],
   "source": []
  }
 ],
 "metadata": {
  "kernelspec": {
   "display_name": "Python 3",
   "language": "python",
   "name": "python3"
  },
  "language_info": {
   "codemirror_mode": {
    "name": "ipython",
    "version": 3
   },
   "file_extension": ".py",
   "mimetype": "text/x-python",
   "name": "python",
   "nbconvert_exporter": "python",
   "pygments_lexer": "ipython3",
   "version": "3.7.7"
  }
 },
 "nbformat": 4,
 "nbformat_minor": 2
}
