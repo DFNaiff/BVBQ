{
 "cells": [
  {
   "cell_type": "code",
   "execution_count": 1,
   "metadata": {},
   "outputs": [],
   "source": [
    "%load_ext autoreload\n",
    "%autoreload 2"
   ]
  },
  {
   "cell_type": "code",
   "execution_count": 2,
   "metadata": {},
   "outputs": [],
   "source": [
    "import sys\n",
    "sys.path.append('..')\n",
    "\n",
    "import functools\n",
    "\n",
    "import numpy as np\n",
    "import torch"
   ]
  },
  {
   "cell_type": "code",
   "execution_count": 3,
   "metadata": {},
   "outputs": [
    {
     "name": "stdout",
     "output_type": "stream",
     "text": [
      "Collecting torch\n",
      "  Downloading torch-1.9.0-cp37-cp37m-manylinux1_x86_64.whl (831.4 MB)\n",
      "\u001b[K     |████████████████████████████████| 831.4 MB 361 bytes/s  0:00:01    |██▉                             | 74.5 MB 1.4 MB/s eta 0:08:52     |██▉                             | 74.8 MB 1.4 MB/s eta 0:08:52     |███▎                            | 85.2 MB 1.2 MB/s eta 0:10:41     |████                            | 102.3 MB 1.2 MB/s eta 0:10:10     |████▍                           | 114.8 MB 1.4 MB/s eta 0:08:32     |████▌                           | 118.4 MB 1.3 MB/s eta 0:09:22     |█████▉                          | 152.8 MB 1.1 MB/s eta 0:10:22     |██████                          | 156.4 MB 1.1 MB/s eta 0:10:14     |███████▊                        | 200.3 MB 1.2 MB/s eta 0:08:28     |███████▉                        | 204.0 MB 425 kB/s eta 0:24:35     |████████                        | 210.3 MB 1.1 MB/s eta 0:09:28     |█████████████                   | 338.1 MB 1.1 MB/s eta 0:07:47███▏                 | 368.6 MB 1.3 MB/s eta 0:06:00  | 421.7 MB 383 kB/s eta 0:17:49     |█████████████████▏              | 446.4 MB 1.2 MB/s eta 0:05:13��███████▌              | 455.9 MB 1.2 MB/s eta 0:05:15     |██████████████████              | 469.1 MB 1.2 MB/s eta 0:05:08     |██████████████████▊             | 485.1 MB 1.1 MB/s eta 0:05:29     |███████████████████▋            | 508.4 MB 658 kB/s eta 0:08:11     |████████████████████▎           | 527.6 MB 3.8 MB/s eta 0:01:21MB 1.3 MB/s eta 0:03:06██████        | 622.4 MB 1.1 MB/s eta 0:03:06     |████████████████████████▍       | 633.6 MB 1.1 MB/s eta 0:03:01     |█████████████████████████▊      | 668.1 MB 1.3 MB/s eta 0:02:10 | 682.5 MB 1.3 MB/s eta 0:01:59 | 689.8 MB 1.3 MB/s eta 0:01:50     |██████████████████████████▌     | 689.9 MB 1.3 MB/s eta 0:01:49��███████████████████▏   | 732.9 MB 1.0 MB/s eta 0:01:36��███████████████████▎   | 735.9 MB 426 kB/s eta 0:03:44��███████████████████▋   | 743.5 MB 399 kB/s eta 0:03:41��████████████████████   | 756.1 MB 1.1 MB/s eta 0:01:11    |█████████████████████████████▌  | 765.7 MB 396 kB/s eta 0:02:46    |█████████████████████████████▉  | 773.9 MB 1.3 MB/s eta 0:00:452 MB 1.3 MB/s eta 0:00:32     |██████████████████████████████▊ | 799.4 MB 1.1 MB/s eta 0:00:305 MB 903 kB/s eta 0:00:31     |███████████████████████████████ | 803.9 MB 1.7 MB/s eta 0:00:17\n",
      "\u001b[?25hCollecting typing-extensions\n",
      "  Downloading typing_extensions-3.10.0.0-py3-none-any.whl (26 kB)\n",
      "\u001b[31mERROR: torchvision 0.4.0 has requirement torch==1.2.0, but you'll have torch 1.9.0 which is incompatible.\u001b[0m\n",
      "Installing collected packages: typing-extensions, torch\n",
      "  Attempting uninstall: torch\n",
      "    Found existing installation: torch 1.6.0\n",
      "    Uninstalling torch-1.6.0:\n",
      "      Successfully uninstalled torch-1.6.0\n",
      "Successfully installed torch-1.9.0 typing-extensions-3.10.0.0\n"
     ]
    }
   ],
   "source": [
    "!pip install torch -U"
   ]
  },
  {
   "cell_type": "code",
   "execution_count": null,
   "metadata": {},
   "outputs": [],
   "source": []
  }
 ],
 "metadata": {
  "kernelspec": {
   "display_name": "Python 3",
   "language": "python",
   "name": "python3"
  },
  "language_info": {
   "codemirror_mode": {
    "name": "ipython",
    "version": 3
   },
   "file_extension": ".py",
   "mimetype": "text/x-python",
   "name": "python",
   "nbconvert_exporter": "python",
   "pygments_lexer": "ipython3",
   "version": "3.7.7"
  }
 },
 "nbformat": 4,
 "nbformat_minor": 2
}
