{
 "cells": [
  {
   "cell_type": "code",
   "execution_count": 23,
   "metadata": {},
   "outputs": [
    {
     "name": "stdout",
     "output_type": "stream",
     "text": [
      "The autoreload extension is already loaded. To reload it, use:\n",
      "  %reload_ext autoreload\n"
     ]
    }
   ],
   "source": [
    "%load_ext autoreload\n",
    "%autoreload 2"
   ]
  },
  {
   "cell_type": "code",
   "execution_count": 24,
   "metadata": {},
   "outputs": [],
   "source": [
    "import sys\n",
    "sys.path.append('..')\n",
    "import functools\n",
    "import math\n",
    "\n",
    "import numpy as np\n",
    "import torch\n",
    "import matplotlib.pyplot as plt\n",
    "from mpl_toolkits.mplot3d import Axes3D\n",
    "import sobol_seq\n",
    "\n",
    "import bvbq_torch"
   ]
  },
  {
   "cell_type": "code",
   "execution_count": 25,
   "metadata": {},
   "outputs": [],
   "source": [
    "mixmeans_test = torch.tensor([[  1.8033],\n",
    "                           [ -1.4296],\n",
    "                           [ -1.9691],\n",
    "                           [  1.2147],\n",
    "                           [ -6.9166],\n",
    "                           [-11.5672],\n",
    "                           [ -1.5860],\n",
    "                           [ -4.3302],\n",
    "                           [  8.7410],\n",
    "                           [ -1.3793],\n",
    "                           [ -4.8774],\n",
    "                           [  2.3949]])\n",
    "mixvars_test = torch.ones((12,1))\n",
    "mixweights_test = torch.ones(12)/12"
   ]
  },
  {
   "cell_type": "code",
   "execution_count": 40,
   "metadata": {},
   "outputs": [
    {
     "data": {
      "text/plain": [
       "{'raw_theta': tensor(7.9376), 'raw_lengthscale': tensor(4.7333)}"
      ]
     },
     "execution_count": 40,
     "metadata": {},
     "output_type": "execute_result"
    }
   ],
   "source": [
    "def logprob_mixgaussians(x):\n",
    "    return bvbq_torch.distributions.MixtureDiagonalNormalDistribution.logprob_(\n",
    "                        x,mixmeans_test,mixvars_test,mixweights_test).reshape(-1,1)\n",
    "def logprob_t(x,nu):\n",
    "    normalizer = jax.scipy.special.gammaln((nu+1)/2) \\\n",
    "                 -jax.scipy.special.gammaln(nu/2) \\\n",
    "                 -0.5*jnp.log(jnp.pi*nu)\n",
    "    main_term = -(nu+1)/2*jnp.log(1+x**2/nu)\n",
    "    return main_term + normalizer\n",
    "\n",
    "xdata = torch.linspace(-20,20,11).reshape(-1,1)\n",
    "ydata = logprob_mixgaussians(xdata)\n",
    "logprobgp = bvbq_torch.gp.SimpleGP(1,kind='smatern52',noise=0,zeromax=True)\n",
    "logprobgp.mean = -30.0\n",
    "logprobgp.fix_mean()\n",
    "logprobgp.fix_noise()\n",
    "logprobgp.set_data(xdata,ydata,empirical_params=False)\n",
    "logprobgp.optimize_params(tol=1e-1)"
   ]
  },
  {
   "cell_type": "code",
   "execution_count": 41,
   "metadata": {},
   "outputs": [
    {
     "data": {
      "text/plain": [
       "tensor(-30.)"
      ]
     },
     "execution_count": 41,
     "metadata": {},
     "output_type": "execute_result"
    }
   ],
   "source": [
    "logprobgp.mean"
   ]
  },
  {
   "cell_type": "code",
   "execution_count": 42,
   "metadata": {},
   "outputs": [
    {
     "data": {
      "image/png": "[encoded data removed]",
      "text/plain": [
       "<Figure size 432x288 with 1 Axes>"
      ]
     },
     "metadata": {
      "needs_background": "light"
     },
     "output_type": "display_data"
    }
   ],
   "source": [
    "xplot = np.linspace(-20,20,201).reshape(-1,1)\n",
    "yplot1 = logprob_mixgaussians(xplot).detach().numpy()\n",
    "# yplot1 = logprob_t(xplot,2.5)\n",
    "yplot2 = logprobgp.predict(xplot,return_cov=False).detach().numpy()\n",
    "plt.plot(xplot,np.exp(yplot1),'b')\n",
    "plt.plot(xplot,np.exp(yplot2),'r')\n",
    "samples1 = bvbq_torch.distributions.MixtureDiagonalNormalDistribution.sample_(100000,\n",
    "                                                             mixmeans_test,\n",
    "                                                             mixvars_test,\n",
    "                                                             mixweights_test).detach().numpy()\n",
    "plt.hist(samples1.flatten(),density=True,bins=100);"
   ]
  },
  {
   "cell_type": "code",
   "execution_count": null,
   "metadata": {},
   "outputs": [],
   "source": []
  },
  {
   "cell_type": "code",
   "execution_count": 43,
   "metadata": {},
   "outputs": [],
   "source": [
    "nmixtures = 3\n",
    "ndim = 1\n",
    "mixmeans = torch.randn(nmixtures,1)\n",
    "mixvars = torch.distributions.HalfNormal(1.0).sample((nmixtures,1))\n",
    "mixweights = torch.distributions.Dirichlet(torch.ones(nmixtures)).sample()\n",
    "mean = torch.randn((1,))\n",
    "var = torch.distributions.HalfNormal(1.0).sample((1,))"
   ]
  },
  {
   "cell_type": "code",
   "execution_count": 44,
   "metadata": {},
   "outputs": [
    {
     "name": "stdout",
     "output_type": "stream",
     "text": [
      "tensor([-2.5991]) tensor([4.2634]) tensor(0.8330)\n",
      "tensor([-11.7290]) tensor([0.8644]) tensor(0.1415)\n",
      "tensor([7.3850]) tensor([2.0001]) tensor(0.1247)\n",
      "tensor([2.4804]) tensor([4.5907]) tensor(0.0874)\n",
      "tensor([-0.6104]) tensor([4.3233]) tensor(0.1025)\n",
      "tensor([-8.2643]) tensor([8.6179]) tensor(0.1298)\n",
      "tensor([-0.8887]) tensor([3.4612]) tensor(0.0803)\n",
      "tensor([-2.4336]) tensor([5.6553]) tensor(0.0318)\n",
      "tensor([10.9285]) tensor([0.5126]) tensor(1.0000e-06)\n",
      "tensor([-2.9162]) tensor([7.4556]) tensor(0.0170)\n",
      "tensor([6.9618]) tensor([4.2148]) tensor(0.0343)\n",
      "tensor([-2.5095]) tensor([6.1284]) tensor(0.0221)\n",
      "tensor([-9.0747]) tensor([4.3135]) tensor(0.0499)\n",
      "tensor([-1.4478]) tensor([7.4216]) tensor(0.0297)\n",
      "tensor([-1.7548]) tensor([5.7507]) tensor(0.0271)\n",
      "tensor([-1.1633]) tensor([7.6481]) tensor(0.0109)\n",
      "tensor([-1.7637]) tensor([6.3284]) tensor(0.0128)\n",
      "tensor([-1.9912]) tensor([6.1110]) tensor(0.0091)\n",
      "tensor([6.3968]) tensor([5.4392]) tensor(0.0171)\n",
      "tensor([-2.2005]) tensor([7.6528]) tensor(0.0103)\n",
      "tensor([-2.6713]) tensor([7.8471]) tensor(0.0106)\n",
      "tensor([6.1338]) tensor([5.6193]) tensor(0.0044)\n",
      "tensor([-1.5068]) tensor([6.8086]) tensor(0.0059)\n",
      "tensor([-9.6848]) tensor([4.3870]) tensor(0.0236)\n",
      "tensor([-2.1180]) tensor([4.9935]) tensor(0.0179)\n",
      "tensor([6.7058]) tensor([4.3568]) tensor(0.0127)\n",
      "tensor([-10.1272]) tensor([3.4145]) tensor(0.0137)\n",
      "tensor([-1.8451]) tensor([5.7065]) tensor(0.0176)\n",
      "tensor([-1.5455]) tensor([7.4421]) tensor(0.0109)\n",
      "tensor([7.0215]) tensor([3.6728]) tensor(0.0097)\n",
      "tensor([-2.1818]) tensor([6.8814]) tensor(0.0142)\n",
      "tensor([-1.8878]) tensor([7.2737]) tensor(0.0105)\n",
      "tensor([-2.7907]) tensor([6.5892]) tensor(0.0097)\n",
      "tensor([-1.8846]) tensor([4.4719]) tensor(0.0123)\n",
      "tensor([-2.2673]) tensor([7.6097]) tensor(0.0042)\n",
      "tensor([-2.0655]) tensor([7.0084]) tensor(0.0044)\n",
      "tensor([-2.3020]) tensor([7.8970]) tensor(0.0038)\n",
      "tensor([-1.6637]) tensor([6.2002]) tensor(0.0050)\n",
      "tensor([-2.5361]) tensor([8.3622]) tensor(0.0033)\n",
      "tensor([6.2080]) tensor([4.9938]) tensor(0.0038)\n",
      "tensor([-2.4546]) tensor([6.3730]) tensor(0.0054)\n",
      "tensor([-1.5822]) tensor([7.6425]) tensor(0.0023)\n",
      "tensor([-10.0054]) tensor([4.3032]) tensor(0.0106)\n",
      "tensor([-2.0092]) tensor([7.6981]) tensor(0.0032)\n",
      "tensor([6.5522]) tensor([4.9913]) tensor(0.0036)\n",
      "tensor([-1.7769]) tensor([5.4968]) tensor(0.0064)\n",
      "tensor([-2.2558]) tensor([6.2231]) tensor(0.0052)\n",
      "tensor([-1.9959]) tensor([4.5009]) tensor(0.0074)\n",
      "tensor([-9.8839]) tensor([4.5031]) tensor(0.0062)\n",
      "tensor([-9.7751]) tensor([4.6111]) tensor(0.0024)\n"
     ]
    }
   ],
   "source": [
    "alpha_relbo = 1e-1\n",
    "maxiter_relbo = 300\n",
    "alpha_boost = 1e-1\n",
    "maxiter_boost = 100\n",
    "maxiter = 50\n",
    "\n",
    "mixmeans = torch.zeros(1,ndim)\n",
    "mixvars = (20.0/3)**2*torch.ones(1,ndim)\n",
    "mixweights = torch.ones(1)\n",
    "for k in range(maxiter):\n",
    "    mean,var = bvbq_torch.bvbq.propose_component_mvn_mixmvn_relbo(\n",
    "                logprobgp,mixmeans,mixvars,mixweights)\n",
    "    mixmeans,mixvars,mixweights = bvbq_torch.bvbq.update_distribution_mvn_mixmvn(\n",
    "                                            logprobgp,\n",
    "                                            mean,var,\n",
    "                                            mixmeans,mixvars,\n",
    "                                            mixweights,\n",
    "                                            lr=1e-1/(k+1),\n",
    "                                            weight_delta=1e-6,\n",
    "                                            decaying_lr=False)\n",
    "\n",
    "    print(mixmeans[-1],mixvars[-1],mixweights[-1])\n",
    "mixmeans,mixvars,mixweights = bvbq_torch.utils.cut_components_mixmvn(mixmeans,mixvars,mixweights)\n",
    "distrib = bvbq_torch.distributions.MixtureDiagonalNormalDistribution(mixmeans,mixvars,mixweights)"
   ]
  },
  {
   "cell_type": "code",
   "execution_count": 45,
   "metadata": {},
   "outputs": [
    {
     "data": {
      "text/plain": [
       "[<matplotlib.lines.Line2D at 0x7f5c24183c90>]"
      ]
     },
     "execution_count": 45,
     "metadata": {},
     "output_type": "execute_result"
    },
    {
     "data": {
      "image/png": "[encoded data removed]",
      "text/plain": [
       "<Figure size 432x288 with 1 Axes>"
      ]
     },
     "metadata": {
      "needs_background": "light"
     },
     "output_type": "display_data"
    }
   ],
   "source": [
    "xplot = np.linspace(-20,20,201).reshape(-1,1)\n",
    "yplot1 = logprob_mixgaussians(xplot).detach().numpy()\n",
    "yplot2 = logprobgp.predict(xplot,return_cov=False).detach().numpy()\n",
    "yplot3 = distrib.logprob(xplot).detach().numpy().reshape(-1,1)\n",
    "plt.plot(xplot,np.exp(yplot1),'b')\n",
    "plt.plot(xplot,np.exp(yplot2),'r')\n",
    "plt.plot(xplot,np.exp(yplot3),'g')"
   ]
  },
  {
   "cell_type": "code",
   "execution_count": null,
   "metadata": {},
   "outputs": [],
   "source": []
  },
  {
   "cell_type": "code",
   "execution_count": null,
   "metadata": {},
   "outputs": [],
   "source": []
  },
  {
   "cell_type": "code",
   "execution_count": null,
   "metadata": {},
   "outputs": [],
   "source": []
  },
  {
   "cell_type": "code",
   "execution_count": 18,
   "metadata": {},
   "outputs": [
    {
     "data": {
      "text/plain": [
       "(tensor([-2.9506]), tensor([[0.0055]]))"
      ]
     },
     "execution_count": 18,
     "metadata": {},
     "output_type": "execute_result"
    }
   ],
   "source": [
    "logprobgp.predict(distrib.sample(1))"
   ]
  },
  {
   "cell_type": "code",
   "execution_count": 23,
   "metadata": {},
   "outputs": [],
   "source": [
    "x = distrib.sample(1)\n",
    "x.requires_grad = True\n",
    "res = bvbq_torch.acquisition_functions.prospective_prediction(x,logprobgp,distrib)\n",
    "res.backward()"
   ]
  },
  {
   "cell_type": "code",
   "execution_count": 25,
   "metadata": {},
   "outputs": [
    {
     "data": {
      "text/plain": [
       "tensor([[9.0618e-05]])"
      ]
     },
     "execution_count": 25,
     "metadata": {},
     "output_type": "execute_result"
    }
   ],
   "source": []
  },
  {
   "cell_type": "code",
   "execution_count": null,
   "metadata": {},
   "outputs": [],
   "source": []
  },
  {
   "cell_type": "code",
   "execution_count": null,
   "metadata": {},
   "outputs": [],
   "source": []
  },
  {
   "cell_type": "code",
   "execution_count": null,
   "metadata": {},
   "outputs": [],
   "source": []
  },
  {
   "cell_type": "code",
   "execution_count": null,
   "metadata": {},
   "outputs": [],
   "source": []
  },
  {
   "cell_type": "code",
   "execution_count": null,
   "metadata": {},
   "outputs": [],
   "source": []
  }
 ],
 "metadata": {
  "kernelspec": {
   "display_name": "Python 3",
   "language": "python",
   "name": "python3"
  },
  "language_info": {
   "codemirror_mode": {
    "name": "ipython",
    "version": 3
   },
   "file_extension": ".py",
   "mimetype": "text/x-python",
   "name": "python",
   "nbconvert_exporter": "python",
   "pygments_lexer": "ipython3",
   "version": "3.7.7"
  }
 },
 "nbformat": 4,
 "nbformat_minor": 2
}
